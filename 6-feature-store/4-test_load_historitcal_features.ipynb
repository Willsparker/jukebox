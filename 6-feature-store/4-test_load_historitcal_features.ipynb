{
 "cells": [
  {
   "cell_type": "code",
   "execution_count": null,
   "id": "82ba4341-f808-4667-bd7b-d9c3df00967b",
   "metadata": {
    "tags": []
   },
   "outputs": [],
   "source": [
    "import feast\n",
    "import pandas as pd\n",
    "from datetime import datetime\n",
    "import psycopg2\n",
    "import yaml"
   ]
  },
  {
   "cell_type": "code",
   "execution_count": null,
   "id": "fc950cb2-cf5f-4ee0-afde-60174dfd9ce5",
   "metadata": {
    "tags": []
   },
   "outputs": [],
   "source": [
    "with open('feature_repo/feature_store.yaml', 'r') as file:\n",
    "    fs_config_yaml = yaml.safe_load(file)\n",
    "fs_config = feast.repo_config.RepoConfig(**fs_config_yaml)\n",
    "fs = feast.FeatureStore(config=fs_config)"
   ]
  },
  {
   "cell_type": "code",
   "execution_count": null,
   "id": "6c9d1af1-9ae9-4194-9977-ac238dbf233c",
   "metadata": {
    "tags": []
   },
   "outputs": [],
   "source": [
    "entity_df = pd.DataFrame.from_dict(\n",
    "    {\n",
    "        \"transaction_id\": list(range(1000)),\n",
    "        \"event_timestamp\": [\n",
    "            datetime.now()\n",
    "        ]*1000\n",
    "    }\n",
    ")\n"
   ]
  },
  {
   "cell_type": "code",
   "execution_count": null,
   "id": "58ce56f0-342a-4dbf-8bda-14922da87bde",
   "metadata": {
    "tags": []
   },
   "outputs": [],
   "source": [
    "features=[\n",
    "        \"song_properties:is_explicit\",\n",
    "        \"song_properties:duration_ms\",\n",
    "        \"song_properties:danceability\",\n",
    "],"
   ]
  },
  {
   "cell_type": "code",
   "execution_count": null,
   "id": "f25c7a97-0f10-453e-9a49-3d99144ca44f",
   "metadata": {
    "tags": []
   },
   "outputs": [],
   "source": [
    "training_df = fs.get_historical_features(entity_df=entity_df, features=features).to_df()"
   ]
  },
  {
   "cell_type": "code",
   "execution_count": null,
   "id": "647732bb-407e-4917-b8a5-764f3efd8659",
   "metadata": {
    "tags": []
   },
   "outputs": [],
   "source": [
    "print(training_df.head())"
   ]
  }
 ],
 "metadata": {
  "kernelspec": {
   "display_name": "Python 3.9",
   "language": "python",
   "name": "python3"
  },
  "language_info": {
   "codemirror_mode": {
    "name": "ipython",
    "version": 3
   },
   "file_extension": ".py",
   "mimetype": "text/x-python",
   "name": "python",
   "nbconvert_exporter": "python",
   "pygments_lexer": "ipython3",
   "version": "3.9.16"
  }
 },
 "nbformat": 4,
 "nbformat_minor": 5
}
