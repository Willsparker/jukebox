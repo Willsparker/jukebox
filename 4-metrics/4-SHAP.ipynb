{
 "cells": [
  {
   "cell_type": "code",
   "execution_count": 4,
   "id": "fe95ffca-bec7-4d0b-b976-80df5ddc0463",
   "metadata": {
    "tags": []
   },
   "outputs": [
    {
     "name": "stderr",
     "output_type": "stream",
     "text": [
      "2024-12-08 19:11:08.558637: I external/local_tsl/tsl/cuda/cudart_stub.cc:31] Could not find cuda drivers on your machine, GPU will not be used.\n",
      "2024-12-08 19:11:08.626383: E external/local_xla/xla/stream_executor/cuda/cuda_dnn.cc:9261] Unable to register cuDNN factory: Attempting to register factory for plugin cuDNN when one has already been registered\n",
      "2024-12-08 19:11:08.626470: E external/local_xla/xla/stream_executor/cuda/cuda_fft.cc:607] Unable to register cuFFT factory: Attempting to register factory for plugin cuFFT when one has already been registered\n",
      "2024-12-08 19:11:08.628154: E external/local_xla/xla/stream_executor/cuda/cuda_blas.cc:1515] Unable to register cuBLAS factory: Attempting to register factory for plugin cuBLAS when one has already been registered\n",
      "2024-12-08 19:11:08.638152: I external/local_tsl/tsl/cuda/cudart_stub.cc:31] Could not find cuda drivers on your machine, GPU will not be used.\n",
      "2024-12-08 19:11:08.638900: I tensorflow/core/platform/cpu_feature_guard.cc:182] This TensorFlow binary is optimized to use available CPU instructions in performance-critical operations.\n",
      "To enable the following instructions: AVX2 FMA, in other operations, rebuild TensorFlow with the appropriate compiler flags.\n",
      "2024-12-08 19:11:10.584215: W tensorflow/compiler/tf2tensorrt/utils/py_utils.cc:38] TF-TRT Warning: Could not find TensorRT\n"
     ]
    }
   ],
   "source": [
    "from trustyai.utils import TestModels\n",
    "from trustyai.model import feature, output, Model, Dataset\n",
    "from trustyai.model import simple_prediction\n",
    "from trustyai.explainers import SHAPExplainer\n",
    "\n",
    "import pandas as pd\n",
    "import random\n",
    "\n",
    "import keras"
   ]
  },
  {
   "cell_type": "code",
   "execution_count": 2,
   "id": "9fc9845c-f417-4d5d-88c2-0aca52b3da25",
   "metadata": {
    "tags": []
   },
   "outputs": [],
   "source": [
    "X_train = pd.read_parquet(\"../2-dev_datascience/models/jukebox/1/artifacts/X_train.parquet\")\n",
    "X_test = pd.read_parquet(\"../2-dev_datascience/models/jukebox/1/artifacts/X_test.parquet\")"
   ]
  },
  {
   "cell_type": "code",
   "execution_count": 6,
   "id": "cb55a6be-f889-4a35-9993-8d5111a830e8",
   "metadata": {
    "tags": []
   },
   "outputs": [],
   "source": [
    "model = keras.saving.load_model(\"../2-dev_datascience/models/jukebox/1/model.keras\")"
   ]
  },
  {
   "cell_type": "code",
   "execution_count": 10,
   "id": "f4ed0e3e-865e-4cb3-8e69-039e9b72217a",
   "metadata": {
    "tags": []
   },
   "outputs": [
    {
     "data": {
      "text/html": [
       "<div>\n",
       "<style scoped>\n",
       "    .dataframe tbody tr th:only-of-type {\n",
       "        vertical-align: middle;\n",
       "    }\n",
       "\n",
       "    .dataframe tbody tr th {\n",
       "        vertical-align: top;\n",
       "    }\n",
       "\n",
       "    .dataframe thead th {\n",
       "        text-align: right;\n",
       "    }\n",
       "</style>\n",
       "<table border=\"1\" class=\"dataframe\">\n",
       "  <thead>\n",
       "    <tr style=\"text-align: right;\">\n",
       "      <th></th>\n",
       "      <th>is_explicit</th>\n",
       "      <th>duration_ms</th>\n",
       "      <th>danceability</th>\n",
       "      <th>energy</th>\n",
       "      <th>key</th>\n",
       "      <th>loudness</th>\n",
       "      <th>mode</th>\n",
       "      <th>speechiness</th>\n",
       "      <th>acousticness</th>\n",
       "      <th>instrumentalness</th>\n",
       "      <th>liveness</th>\n",
       "      <th>valence</th>\n",
       "      <th>tempo</th>\n",
       "    </tr>\n",
       "  </thead>\n",
       "  <tbody>\n",
       "    <tr>\n",
       "      <th>644220</th>\n",
       "      <td>False</td>\n",
       "      <td>190560</td>\n",
       "      <td>0.841</td>\n",
       "      <td>0.783</td>\n",
       "      <td>6</td>\n",
       "      <td>-4.915</td>\n",
       "      <td>0</td>\n",
       "      <td>0.0432</td>\n",
       "      <td>0.1060</td>\n",
       "      <td>0.000002</td>\n",
       "      <td>0.0528</td>\n",
       "      <td>0.514</td>\n",
       "      <td>94.989</td>\n",
       "    </tr>\n",
       "    <tr>\n",
       "      <th>473163</th>\n",
       "      <td>False</td>\n",
       "      <td>146060</td>\n",
       "      <td>0.735</td>\n",
       "      <td>0.628</td>\n",
       "      <td>8</td>\n",
       "      <td>-5.572</td>\n",
       "      <td>0</td>\n",
       "      <td>0.2120</td>\n",
       "      <td>0.2580</td>\n",
       "      <td>0.000004</td>\n",
       "      <td>0.1000</td>\n",
       "      <td>0.192</td>\n",
       "      <td>103.925</td>\n",
       "    </tr>\n",
       "    <tr>\n",
       "      <th>585395</th>\n",
       "      <td>False</td>\n",
       "      <td>152078</td>\n",
       "      <td>0.760</td>\n",
       "      <td>0.747</td>\n",
       "      <td>0</td>\n",
       "      <td>-5.083</td>\n",
       "      <td>0</td>\n",
       "      <td>0.0282</td>\n",
       "      <td>0.0675</td>\n",
       "      <td>0.000003</td>\n",
       "      <td>0.3090</td>\n",
       "      <td>0.884</td>\n",
       "      <td>128.912</td>\n",
       "    </tr>\n",
       "    <tr>\n",
       "      <th>157601</th>\n",
       "      <td>True</td>\n",
       "      <td>170480</td>\n",
       "      <td>0.920</td>\n",
       "      <td>0.696</td>\n",
       "      <td>6</td>\n",
       "      <td>-3.356</td>\n",
       "      <td>0</td>\n",
       "      <td>0.0742</td>\n",
       "      <td>0.1830</td>\n",
       "      <td>0.000000</td>\n",
       "      <td>0.1490</td>\n",
       "      <td>0.545</td>\n",
       "      <td>106.966</td>\n",
       "    </tr>\n",
       "    <tr>\n",
       "      <th>839617</th>\n",
       "      <td>False</td>\n",
       "      <td>120600</td>\n",
       "      <td>0.858</td>\n",
       "      <td>0.677</td>\n",
       "      <td>8</td>\n",
       "      <td>-4.294</td>\n",
       "      <td>1</td>\n",
       "      <td>0.1180</td>\n",
       "      <td>0.1060</td>\n",
       "      <td>0.000000</td>\n",
       "      <td>0.2460</td>\n",
       "      <td>0.584</td>\n",
       "      <td>100.046</td>\n",
       "    </tr>\n",
       "    <tr>\n",
       "      <th>...</th>\n",
       "      <td>...</td>\n",
       "      <td>...</td>\n",
       "      <td>...</td>\n",
       "      <td>...</td>\n",
       "      <td>...</td>\n",
       "      <td>...</td>\n",
       "      <td>...</td>\n",
       "      <td>...</td>\n",
       "      <td>...</td>\n",
       "      <td>...</td>\n",
       "      <td>...</td>\n",
       "      <td>...</td>\n",
       "      <td>...</td>\n",
       "    </tr>\n",
       "    <tr>\n",
       "      <th>568129</th>\n",
       "      <td>True</td>\n",
       "      <td>197920</td>\n",
       "      <td>0.708</td>\n",
       "      <td>0.737</td>\n",
       "      <td>1</td>\n",
       "      <td>-4.045</td>\n",
       "      <td>1</td>\n",
       "      <td>0.0436</td>\n",
       "      <td>0.0739</td>\n",
       "      <td>0.001620</td>\n",
       "      <td>0.0955</td>\n",
       "      <td>0.607</td>\n",
       "      <td>91.986</td>\n",
       "    </tr>\n",
       "    <tr>\n",
       "      <th>285391</th>\n",
       "      <td>False</td>\n",
       "      <td>180530</td>\n",
       "      <td>0.492</td>\n",
       "      <td>0.686</td>\n",
       "      <td>5</td>\n",
       "      <td>-6.970</td>\n",
       "      <td>0</td>\n",
       "      <td>0.1400</td>\n",
       "      <td>0.2800</td>\n",
       "      <td>0.000000</td>\n",
       "      <td>0.1370</td>\n",
       "      <td>0.392</td>\n",
       "      <td>109.802</td>\n",
       "    </tr>\n",
       "    <tr>\n",
       "      <th>815084</th>\n",
       "      <td>False</td>\n",
       "      <td>190560</td>\n",
       "      <td>0.841</td>\n",
       "      <td>0.783</td>\n",
       "      <td>6</td>\n",
       "      <td>-4.915</td>\n",
       "      <td>0</td>\n",
       "      <td>0.0432</td>\n",
       "      <td>0.1060</td>\n",
       "      <td>0.000002</td>\n",
       "      <td>0.0528</td>\n",
       "      <td>0.514</td>\n",
       "      <td>94.989</td>\n",
       "    </tr>\n",
       "    <tr>\n",
       "      <th>722116</th>\n",
       "      <td>False</td>\n",
       "      <td>220750</td>\n",
       "      <td>0.593</td>\n",
       "      <td>0.354</td>\n",
       "      <td>4</td>\n",
       "      <td>-8.270</td>\n",
       "      <td>1</td>\n",
       "      <td>0.0279</td>\n",
       "      <td>0.6980</td>\n",
       "      <td>0.000036</td>\n",
       "      <td>0.2930</td>\n",
       "      <td>0.241</td>\n",
       "      <td>120.010</td>\n",
       "    </tr>\n",
       "    <tr>\n",
       "      <th>517369</th>\n",
       "      <td>True</td>\n",
       "      <td>120615</td>\n",
       "      <td>0.860</td>\n",
       "      <td>0.722</td>\n",
       "      <td>6</td>\n",
       "      <td>-5.761</td>\n",
       "      <td>1</td>\n",
       "      <td>0.2440</td>\n",
       "      <td>0.5300</td>\n",
       "      <td>0.000000</td>\n",
       "      <td>0.2160</td>\n",
       "      <td>0.824</td>\n",
       "      <td>97.548</td>\n",
       "    </tr>\n",
       "  </tbody>\n",
       "</table>\n",
       "<p>714275 rows × 13 columns</p>\n",
       "</div>"
      ],
      "text/plain": [
       "        is_explicit  duration_ms  danceability  energy  key  loudness  mode  \\\n",
       "644220        False       190560         0.841   0.783    6    -4.915     0   \n",
       "473163        False       146060         0.735   0.628    8    -5.572     0   \n",
       "585395        False       152078         0.760   0.747    0    -5.083     0   \n",
       "157601         True       170480         0.920   0.696    6    -3.356     0   \n",
       "839617        False       120600         0.858   0.677    8    -4.294     1   \n",
       "...             ...          ...           ...     ...  ...       ...   ...   \n",
       "568129         True       197920         0.708   0.737    1    -4.045     1   \n",
       "285391        False       180530         0.492   0.686    5    -6.970     0   \n",
       "815084        False       190560         0.841   0.783    6    -4.915     0   \n",
       "722116        False       220750         0.593   0.354    4    -8.270     1   \n",
       "517369         True       120615         0.860   0.722    6    -5.761     1   \n",
       "\n",
       "        speechiness  acousticness  instrumentalness  liveness  valence  \\\n",
       "644220       0.0432        0.1060          0.000002    0.0528    0.514   \n",
       "473163       0.2120        0.2580          0.000004    0.1000    0.192   \n",
       "585395       0.0282        0.0675          0.000003    0.3090    0.884   \n",
       "157601       0.0742        0.1830          0.000000    0.1490    0.545   \n",
       "839617       0.1180        0.1060          0.000000    0.2460    0.584   \n",
       "...             ...           ...               ...       ...      ...   \n",
       "568129       0.0436        0.0739          0.001620    0.0955    0.607   \n",
       "285391       0.1400        0.2800          0.000000    0.1370    0.392   \n",
       "815084       0.0432        0.1060          0.000002    0.0528    0.514   \n",
       "722116       0.0279        0.6980          0.000036    0.2930    0.241   \n",
       "517369       0.2440        0.5300          0.000000    0.2160    0.824   \n",
       "\n",
       "          tempo  \n",
       "644220   94.989  \n",
       "473163  103.925  \n",
       "585395  128.912  \n",
       "157601  106.966  \n",
       "839617  100.046  \n",
       "...         ...  \n",
       "568129   91.986  \n",
       "285391  109.802  \n",
       "815084   94.989  \n",
       "722116  120.010  \n",
       "517369   97.548  \n",
       "\n",
       "[714275 rows x 13 columns]"
      ]
     },
     "execution_count": 10,
     "metadata": {},
     "output_type": "execute_result"
    }
   ],
   "source": [
    "X_train"
   ]
  },
  {
   "cell_type": "code",
   "execution_count": 15,
   "id": "0cd30546-484f-487c-9aa1-c532d16df6a3",
   "metadata": {
    "tags": []
   },
   "outputs": [
    {
     "data": {
      "text/plain": [
       "is_explicit            False\n",
       "duration_ms           190560\n",
       "danceability           0.841\n",
       "energy                 0.783\n",
       "key                        6\n",
       "loudness              -4.915\n",
       "mode                       0\n",
       "speechiness           0.0432\n",
       "acousticness           0.106\n",
       "instrumentalness    0.000002\n",
       "liveness              0.0528\n",
       "valence                0.514\n",
       "tempo                 94.989\n",
       "Name: 644220, dtype: object"
      ]
     },
     "execution_count": 15,
     "metadata": {},
     "output_type": "execute_result"
    }
   ],
   "source": [
    "point_to_explain = X_train.iloc[0]\n",
    "point_to_explain"
   ]
  },
  {
   "cell_type": "code",
   "execution_count": null,
   "id": "0df053e9-bf56-4b03-9e9c-f7876cb19269",
   "metadata": {},
   "outputs": [],
   "source": [
    "def pred(x):\n",
    "    pred = model.predict(x)\n",
    "    print(x)\n",
    "    pred = np.squeeze(pred)\n",
    "    pred = {output_names[i]: pred[i] for i in range(pred.shape[0])}\n",
    "    print(pred[\"output-2\"])\n",
    "    return pd.DataFrame([pred])"
   ]
  },
  {
   "cell_type": "code",
   "execution_count": 17,
   "id": "7f587512-38e8-4e80-b78d-f6296d573924",
   "metadata": {
    "tags": []
   },
   "outputs": [],
   "source": [
    "from trustyai.model import Model\n",
    "trustyai_model = Model(model.predict, dataframe_input=True, output_names=['output-1'])"
   ]
  },
  {
   "cell_type": "code",
   "execution_count": 23,
   "id": "acc63b48-8d61-4028-bdbd-219217e4f5fc",
   "metadata": {
    "tags": []
   },
   "outputs": [
    {
     "name": "stderr",
     "output_type": "stream",
     "text": [
      "ERROR:root: Fatal runtime error within the `predict_fun` supplied to trustyai.Model\n",
      "ERROR:root: The error message has been captured and reproduced below:\n",
      "ERROR:root: Traceback (most recent call last):\n",
      "  File \"/opt/app-root/lib64/python3.9/site-packages/trustyai/model/__init__.py\", line 311, in wrapper\n",
      "    return predict_fun(x)\n",
      "  File \"/opt/app-root/lib64/python3.9/site-packages/keras/src/utils/traceback_utils.py\", line 70, in error_handler\n",
      "    raise e.with_traceback(filtered_tb) from None\n",
      "  File \"/opt/app-root/lib64/python3.9/site-packages/tensorflow/python/framework/constant_op.py\", line 103, in convert_to_eager_tensor\n",
      "    return ops.EagerTensor(value, ctx.device_name, dtype)\n",
      "ValueError: Failed to convert a NumPy array to a Tensor (Unsupported object type bool).\n",
      "\n"
     ]
    },
    {
     "ename": "ValueError",
     "evalue": "Failed to convert a NumPy array to a Tensor (Unsupported object type bool).",
     "output_type": "error",
     "traceback": [
      "\u001b[0;31m---------------------------------------------------------------------------\u001b[0m",
      "\u001b[0;31mValueError\u001b[0m                                Traceback (most recent call last)",
      "Cell \u001b[0;32mIn[23], line 1\u001b[0m\n\u001b[0;32m----> 1\u001b[0m \u001b[43mtrustyai_model\u001b[49m\u001b[43m(\u001b[49m\u001b[43mX_test\u001b[49m\u001b[38;5;241;43m.\u001b[39;49m\u001b[43miloc\u001b[49m\u001b[43m[\u001b[49m\u001b[38;5;241;43m0\u001b[39;49m\u001b[43m:\u001b[49m\u001b[38;5;241;43m1\u001b[39;49m\u001b[43m]\u001b[49m\u001b[43m)\u001b[49m\n",
      "File \u001b[0;32m/opt/app-root/lib64/python3.9/site-packages/trustyai/model/__init__.py:332\u001b[0m, in \u001b[0;36mCallableWrapper.__call__\u001b[0;34m(self, inputs)\u001b[0m\n\u001b[1;32m    324\u001b[0m \u001b[38;5;28;01mdef\u001b[39;00m \u001b[38;5;21m__call__\u001b[39m(\u001b[38;5;28mself\u001b[39m, inputs):\n\u001b[1;32m    325\u001b[0m \u001b[38;5;250m    \u001b[39m\u001b[38;5;124;03m\"\"\"\u001b[39;00m\n\u001b[1;32m    326\u001b[0m \u001b[38;5;124;03m    Alias of ``model.fn(inputs)``.\u001b[39;00m\n\u001b[1;32m    327\u001b[0m \n\u001b[0;32m   (...)\u001b[0m\n\u001b[1;32m    330\u001b[0m \u001b[38;5;124;03m    inputs : Inputs to pass to the model's original `fn`\u001b[39;00m\n\u001b[1;32m    331\u001b[0m \u001b[38;5;124;03m    \"\"\"\u001b[39;00m\n\u001b[0;32m--> 332\u001b[0m     \u001b[38;5;28;01mreturn\u001b[39;00m \u001b[38;5;28;43mself\u001b[39;49m\u001b[38;5;241;43m.\u001b[39;49m\u001b[43mfn\u001b[49m\u001b[43m(\u001b[49m\u001b[43minputs\u001b[49m\u001b[43m)\u001b[49m\n",
      "File \u001b[0;32m/opt/app-root/lib64/python3.9/site-packages/trustyai/model/__init__.py:320\u001b[0m, in \u001b[0;36mCallableWrapper._error_catcher.<locals>.wrapper\u001b[0;34m(x)\u001b[0m\n\u001b[1;32m    316\u001b[0m logging\u001b[38;5;241m.\u001b[39merror(\n\u001b[1;32m    317\u001b[0m     \u001b[38;5;124m\"\u001b[39m\u001b[38;5;124m The error message has been captured and reproduced below:\u001b[39m\u001b[38;5;124m\"\u001b[39m\n\u001b[1;32m    318\u001b[0m )\n\u001b[1;32m    319\u001b[0m logging\u001b[38;5;241m.\u001b[39merror(\u001b[38;5;124m\"\u001b[39m\u001b[38;5;124m \u001b[39m\u001b[38;5;132;01m%s\u001b[39;00m\u001b[38;5;124m\"\u001b[39m, traceback\u001b[38;5;241m.\u001b[39mformat_exc())\n\u001b[0;32m--> 320\u001b[0m \u001b[38;5;28;01mraise\u001b[39;00m e\n",
      "File \u001b[0;32m/opt/app-root/lib64/python3.9/site-packages/trustyai/model/__init__.py:311\u001b[0m, in \u001b[0;36mCallableWrapper._error_catcher.<locals>.wrapper\u001b[0;34m(x)\u001b[0m\n\u001b[1;32m    309\u001b[0m \u001b[38;5;28;01mdef\u001b[39;00m \u001b[38;5;21mwrapper\u001b[39m(x):\n\u001b[1;32m    310\u001b[0m     \u001b[38;5;28;01mtry\u001b[39;00m:\n\u001b[0;32m--> 311\u001b[0m         \u001b[38;5;28;01mreturn\u001b[39;00m \u001b[43mpredict_fun\u001b[49m\u001b[43m(\u001b[49m\u001b[43mx\u001b[49m\u001b[43m)\u001b[49m\n\u001b[1;32m    312\u001b[0m     \u001b[38;5;28;01mexcept\u001b[39;00m \u001b[38;5;167;01mException\u001b[39;00m \u001b[38;5;28;01mas\u001b[39;00m e:\n\u001b[1;32m    313\u001b[0m         logging\u001b[38;5;241m.\u001b[39merror(\n\u001b[1;32m    314\u001b[0m             \u001b[38;5;124m\"\u001b[39m\u001b[38;5;124m Fatal runtime error within the `predict_fun` supplied to trustyai.Model\u001b[39m\u001b[38;5;124m\"\u001b[39m\n\u001b[1;32m    315\u001b[0m         )\n",
      "File \u001b[0;32m/opt/app-root/lib64/python3.9/site-packages/keras/src/utils/traceback_utils.py:70\u001b[0m, in \u001b[0;36mfilter_traceback.<locals>.error_handler\u001b[0;34m(*args, **kwargs)\u001b[0m\n\u001b[1;32m     67\u001b[0m     filtered_tb \u001b[38;5;241m=\u001b[39m _process_traceback_frames(e\u001b[38;5;241m.\u001b[39m__traceback__)\n\u001b[1;32m     68\u001b[0m     \u001b[38;5;66;03m# To get the full stack trace, call:\u001b[39;00m\n\u001b[1;32m     69\u001b[0m     \u001b[38;5;66;03m# `tf.debugging.disable_traceback_filtering()`\u001b[39;00m\n\u001b[0;32m---> 70\u001b[0m     \u001b[38;5;28;01mraise\u001b[39;00m e\u001b[38;5;241m.\u001b[39mwith_traceback(filtered_tb) \u001b[38;5;28;01mfrom\u001b[39;00m \u001b[38;5;28;01mNone\u001b[39;00m\n\u001b[1;32m     71\u001b[0m \u001b[38;5;28;01mfinally\u001b[39;00m:\n\u001b[1;32m     72\u001b[0m     \u001b[38;5;28;01mdel\u001b[39;00m filtered_tb\n",
      "File \u001b[0;32m/opt/app-root/lib64/python3.9/site-packages/tensorflow/python/framework/constant_op.py:103\u001b[0m, in \u001b[0;36mconvert_to_eager_tensor\u001b[0;34m(value, ctx, dtype)\u001b[0m\n\u001b[1;32m    101\u001b[0m     dtype \u001b[38;5;241m=\u001b[39m dtypes\u001b[38;5;241m.\u001b[39mas_dtype(dtype)\u001b[38;5;241m.\u001b[39mas_datatype_enum\n\u001b[1;32m    102\u001b[0m ctx\u001b[38;5;241m.\u001b[39mensure_initialized()\n\u001b[0;32m--> 103\u001b[0m \u001b[38;5;28;01mreturn\u001b[39;00m \u001b[43mops\u001b[49m\u001b[38;5;241;43m.\u001b[39;49m\u001b[43mEagerTensor\u001b[49m\u001b[43m(\u001b[49m\u001b[43mvalue\u001b[49m\u001b[43m,\u001b[49m\u001b[43m \u001b[49m\u001b[43mctx\u001b[49m\u001b[38;5;241;43m.\u001b[39;49m\u001b[43mdevice_name\u001b[49m\u001b[43m,\u001b[49m\u001b[43m \u001b[49m\u001b[43mdtype\u001b[49m\u001b[43m)\u001b[49m\n",
      "\u001b[0;31mValueError\u001b[0m: Failed to convert a NumPy array to a Tensor (Unsupported object type bool)."
     ]
    }
   ],
   "source": [
    "trustyai_model(X_test.iloc[0:1])"
   ]
  },
  {
   "cell_type": "code",
   "execution_count": 18,
   "id": "165978b5-2c24-4043-8757-f8944e815695",
   "metadata": {
    "tags": []
   },
   "outputs": [],
   "source": [
    "from trustyai.explainers import SHAPExplainer\n",
    "explainer = SHAPExplainer(background=X_train[:100])"
   ]
  },
  {
   "cell_type": "code",
   "execution_count": 22,
   "id": "a8996696-e26e-4eca-a907-6e62c033f9d3",
   "metadata": {
    "tags": []
   },
   "outputs": [
    {
     "ename": "java.util.concurrent.ExecutionException",
     "evalue": "java.util.concurrent.ExecutionException: java.lang.ClassCastException: class java.lang.Long cannot be cast to class java.lang.Double (java.lang.Long and java.lang.Double are in module java.base of loader 'bootstrap')",
     "output_type": "error",
     "traceback": [
      "\u001b[0;31m---------------------------------------------------------------------------\u001b[0m",
      "\u001b[0;31mjava.lang.ClassCastException\u001b[0m              Traceback (most recent call last)",
      "File \u001b[0;32mThread.java:840\u001b[0m, in \u001b[0;36mjava.lang.Thread.run\u001b[0;34m()\u001b[0m\n",
      "\u001b[0;31mjava.lang.ClassCastException\u001b[0m: java.lang.ClassCastException: class java.lang.Long cannot be cast to class java.lang.Double (java.lang.Long and java.lang.Double are in module java.base of loader 'bootstrap')",
      "\nThe above exception was the direct cause of the following exception:\n",
      "\u001b[0;31mException\u001b[0m                                 Traceback (most recent call last)",
      "File \u001b[0;32mCompletableFuture.java:2073\u001b[0m, in \u001b[0;36mjava.util.concurrent.CompletableFuture.get\u001b[0;34m()\u001b[0m\n",
      "\u001b[0;31mException\u001b[0m: Java Exception",
      "\nThe above exception was the direct cause of the following exception:\n",
      "\u001b[0;31mjava.util.concurrent.ExecutionException\u001b[0m   Traceback (most recent call last)",
      "Cell \u001b[0;32mIn[22], line 1\u001b[0m\n\u001b[0;32m----> 1\u001b[0m explanations \u001b[38;5;241m=\u001b[39m \u001b[43mexplainer\u001b[49m\u001b[38;5;241;43m.\u001b[39;49m\u001b[43mexplain\u001b[49m\u001b[43m(\u001b[49m\u001b[43minputs\u001b[49m\u001b[38;5;241;43m=\u001b[39;49m\u001b[43mX_test\u001b[49m\u001b[38;5;241;43m.\u001b[39;49m\u001b[43miloc\u001b[49m\u001b[43m[\u001b[49m\u001b[38;5;241;43m0\u001b[39;49m\u001b[43m:\u001b[49m\u001b[38;5;241;43m1\u001b[39;49m\u001b[43m]\u001b[49m\u001b[43m,\u001b[49m\u001b[43m \u001b[49m\n\u001b[1;32m      2\u001b[0m \u001b[43m                                 \u001b[49m\u001b[43moutputs\u001b[49m\u001b[38;5;241;43m=\u001b[39;49m\u001b[38;5;241;43m1\u001b[39;49m\u001b[43m,\u001b[49m\n\u001b[1;32m      3\u001b[0m \u001b[43m                                 \u001b[49m\u001b[43mmodel\u001b[49m\u001b[38;5;241;43m=\u001b[39;49m\u001b[43mtrustyai_model\u001b[49m\u001b[43m)\u001b[49m\n",
      "File \u001b[0;32m/opt/app-root/lib64/python3.9/site-packages/trustyai/explainers/shap.py:460\u001b[0m, in \u001b[0;36mSHAPExplainer.explain\u001b[0;34m(self, inputs, outputs, model)\u001b[0m\n\u001b[1;32m    457\u001b[0m explainer \u001b[38;5;241m=\u001b[39m _ShapKernelExplainer(config)\n\u001b[1;32m    458\u001b[0m \u001b[38;5;28;01mwith\u001b[39;00m Model\u001b[38;5;241m.\u001b[39mArrowTransmission(model, inputs):\n\u001b[1;32m    459\u001b[0m     \u001b[38;5;28;01mreturn\u001b[39;00m SHAPResults(\n\u001b[0;32m--> 460\u001b[0m         \u001b[43mexplainer\u001b[49m\u001b[38;5;241;43m.\u001b[39;49m\u001b[43mexplainAsync\u001b[49m\u001b[43m(\u001b[49m\u001b[43m_prediction\u001b[49m\u001b[43m,\u001b[49m\u001b[43m \u001b[49m\u001b[43mmodel\u001b[49m\u001b[43m)\u001b[49m\u001b[38;5;241;43m.\u001b[39;49m\u001b[43mget\u001b[49m\u001b[43m(\u001b[49m\u001b[43m)\u001b[49m, _background\n\u001b[1;32m    461\u001b[0m     )\n",
      "\u001b[0;31mjava.util.concurrent.ExecutionException\u001b[0m: java.util.concurrent.ExecutionException: java.lang.ClassCastException: class java.lang.Long cannot be cast to class java.lang.Double (java.lang.Long and java.lang.Double are in module java.base of loader 'bootstrap')"
     ]
    }
   ],
   "source": [
    "explanations = explainer.explain(inputs=X_test.iloc[0:1], \n",
    "                                 outputs=1,\n",
    "                                 model=trustyai_model)"
   ]
  },
  {
   "cell_type": "code",
   "execution_count": null,
   "id": "946e764b-4412-4c47-9516-b38eae9c0b99",
   "metadata": {},
   "outputs": [],
   "source": []
  }
 ],
 "metadata": {
  "kernelspec": {
   "display_name": "Python 3.9",
   "language": "python",
   "name": "python3"
  },
  "language_info": {
   "codemirror_mode": {
    "name": "ipython",
    "version": 3
   },
   "file_extension": ".py",
   "mimetype": "text/x-python",
   "name": "python",
   "nbconvert_exporter": "python",
   "pygments_lexer": "ipython3",
   "version": "3.9.16"
  }
 },
 "nbformat": 4,
 "nbformat_minor": 5
}
