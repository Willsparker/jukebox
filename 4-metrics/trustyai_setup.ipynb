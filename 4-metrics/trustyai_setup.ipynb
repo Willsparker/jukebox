{
 "cells": [
  {
   "cell_type": "code",
   "execution_count": null,
   "id": "5144df45-deee-49fd-bee9-950483624285",
   "metadata": {
    "tags": []
   },
   "outputs": [],
   "source": [
    "!pip -q install onnxruntime"
   ]
  },
  {
   "cell_type": "code",
   "execution_count": 58,
   "id": "202acbc3-aabf-40c1-b168-6b0adfd0edf7",
   "metadata": {
    "tags": []
   },
   "outputs": [],
   "source": [
    "token = !oc whoami -t\n",
    "token = token[0]"
   ]
  },
  {
   "cell_type": "code",
   "execution_count": 60,
   "id": "ef4b9234-5a9a-48a8-a2e9-f37645a984ec",
   "metadata": {
    "tags": []
   },
   "outputs": [],
   "source": [
    "model_name = \"jukebox\""
   ]
  },
  {
   "cell_type": "code",
   "execution_count": 32,
   "id": "d4a0deb3-2a9c-4cdb-8936-41f4cd4adb9b",
   "metadata": {
    "tags": []
   },
   "outputs": [],
   "source": [
    "import pandas as pd\n",
    "import pickle\n",
    "import json\n",
    "import onnxruntime as rt\n",
    "import numpy as np\n",
    "import onnx\n",
    "\n",
    "import requests\n",
    "from urllib.parse import urljoin"
   ]
  },
  {
   "cell_type": "code",
   "execution_count": 12,
   "id": "e37cf1e2-4d4c-463f-ac73-2288fc3d6909",
   "metadata": {
    "tags": []
   },
   "outputs": [],
   "source": [
    "song_properties = pd.read_parquet('https://github.com/rhoai-mlops/jukebox/raw/refs/heads/main/99-data_prep/song_properties.parquet')\n",
    "song_properties=song_properties.head(1000)\n",
    "X = song_properties[['is_explicit', 'duration_ms', 'danceability', 'energy', 'key', 'loudness', 'mode', 'speechiness', 'acousticness', 'instrumentalness', 'liveness', 'valence', 'tempo']]"
   ]
  },
  {
   "cell_type": "code",
   "execution_count": 13,
   "id": "cfd559f9-85cf-489b-9cd8-eaa1d2cbd7ae",
   "metadata": {
    "tags": []
   },
   "outputs": [],
   "source": [
    "with open('../2-dev_datascience/models/jukebox/1/artifacts/scaler.pkl', 'rb') as handle:\n",
    "    scaler = pickle.load(handle)"
   ]
  },
  {
   "cell_type": "code",
   "execution_count": 14,
   "id": "3ba93238-f69f-49c8-a103-12c8ed320aa1",
   "metadata": {
    "tags": []
   },
   "outputs": [],
   "source": [
    "data = scaler.transform(X.values).tolist()"
   ]
  },
  {
   "cell_type": "code",
   "execution_count": 15,
   "id": "a78c55ac-e954-4fcd-9de3-ab4d7a1e8152",
   "metadata": {
    "tags": []
   },
   "outputs": [],
   "source": [
    "sess = rt.InferenceSession(\"../2-dev_datascience/models/jukebox/1/model.onnx\", providers=rt.get_available_providers())\n",
    "input_name = sess.get_inputs()[0].name\n",
    "output_name = sess.get_outputs()[0].name\n",
    "y_pred_temp = sess.run([output_name], {input_name: scaler.transform(X.values).astype(np.float32)}) "
   ]
  },
  {
   "cell_type": "code",
   "execution_count": 16,
   "id": "e7e09f88-1b5f-4e47-bcfb-09866232bc08",
   "metadata": {
    "tags": []
   },
   "outputs": [],
   "source": [
    "training_data = {\n",
    "    \"model_name\": model_name,\n",
    "    \"data_tag\": \"TRAINING\",\n",
    "    \"request\": {\n",
    "        \"inputs\": [\n",
    "            {\n",
    "                \"name\": input_name,\n",
    "                \"shape\": np.shape(data),\n",
    "                \"datatype\": \"FP32\",\n",
    "                \"data\": data\n",
    "            }\n",
    "        ]    \n",
    "    },\n",
    "    \"response\": {\n",
    "        \"model_name\": model_name,\n",
    "        \"model_version\": \"1\",\n",
    "        \"outputs\": [\n",
    "            {\n",
    "                \"name\": output_name,\n",
    "                \"datatype\": \"FP32\",\n",
    "                \"shape\": np.shape(y_pred_temp[0]),\n",
    "                \"data\": y_pred_temp[0].tolist()\n",
    "            }\n",
    "        ]\n",
    "    }\n",
    "}\n"
   ]
  },
  {
   "cell_type": "code",
   "execution_count": 41,
   "id": "b7705b44-e0e9-4b96-bbff-81bbce4079fd",
   "metadata": {
    "tags": []
   },
   "outputs": [],
   "source": [
    "base_url = \"your-trustyai-service\"\n",
    "headers = {\n",
    "    \"Authorization\": f\"Bearer {token}\",\n",
    "    \"Content-Type\": \"application/json\"\n",
    "}"
   ]
  },
  {
   "cell_type": "code",
   "execution_count": null,
   "id": "e88b79f4-1788-424c-864d-4af919daec43",
   "metadata": {
    "tags": []
   },
   "outputs": [],
   "source": [
    "# Upload data\n",
    "endpoint = \"data/upload\"\n",
    "url = urljoin(base_url, endpoint)\n",
    "response = requests.post(url, headers=headers, json=training_data)\n",
    "print(response.text)"
   ]
  },
  {
   "cell_type": "code",
   "execution_count": null,
   "id": "1dcb5cd9-4fa8-4af4-bdef-4773a6218694",
   "metadata": {
    "tags": []
   },
   "outputs": [],
   "source": [
    "# Change the input and output names\n",
    "endpoint = \"info/names\"\n",
    "url = urljoin(base_url, endpoint)\n",
    "\n",
    "payload = {\n",
    "    \"modelId\": model_name,\n",
    "    \"inputMapping\": {\n",
    "        \"dense_5_input-0\": \"is_explicit\",\n",
    "        \"dense_5_input-1\": \"duration_ms\",\n",
    "        \"dense_5_input-2\": \"danceability\",\n",
    "        \"dense_5_input-4\": \"energy\",\n",
    "        \"dense_5_input-5\": \"key\",\n",
    "        \"dense_5_input-6\": \"loudness\",\n",
    "        \"dense_5_input-7\": \"mode\",\n",
    "        \"dense_5_input-8\": \"speechiness\",\n",
    "        \"dense_5_input-9\": \"acousticness\",\n",
    "        \"dense_5_input-10\": \"instrumentalness\",\n",
    "        \"dense_5_input-11\": \"liveness\",\n",
    "        \"dense_5_input-12\": \"valence\",\n",
    "        \"dense_5_input-13\": \"tempo\"\n",
    "    },\n",
    "    # \"outputMapping\": {\n",
    "    #     \"dense_9-0\": \"Country Probability\"\n",
    "    # }\n",
    "}\n",
    "\n",
    "response = requests.post(url, headers=headers, json=payload)\n",
    "print(response.text)"
   ]
  },
  {
   "cell_type": "code",
   "execution_count": null,
   "id": "2024b207-c705-4cc2-9b27-ebab030a29ae",
   "metadata": {
    "tags": []
   },
   "outputs": [],
   "source": [
    "# See if the change went through\n",
    "endpoint = \"/info\"\n",
    "url = urljoin(base_url, endpoint)\n",
    "response = requests.get(url, headers=headers)\n",
    "print(response.text)"
   ]
  },
  {
   "cell_type": "code",
   "execution_count": null,
   "id": "c96ea7a1-3e4a-4d2b-abec-fc46e0330cf5",
   "metadata": {
    "tags": []
   },
   "outputs": [],
   "source": [
    "#Activate the metric\n",
    "endpoint = \"/metrics/drift/meanshift/request\"\n",
    "url = urljoin(base_url, endpoint)\n",
    "\n",
    "payload = {\n",
    "    \"modelId\": model_name,\n",
    "    \"referenceTag\": \"TRAINING\"\n",
    "}\n",
    "\n",
    "response = requests.post(url, headers=headers, json=payload)\n",
    "print(response.text)"
   ]
  }
 ],
 "metadata": {
  "kernelspec": {
   "display_name": "Python 3.9",
   "language": "python",
   "name": "python3"
  },
  "language_info": {
   "codemirror_mode": {
    "name": "ipython",
    "version": 3
   },
   "file_extension": ".py",
   "mimetype": "text/x-python",
   "name": "python",
   "nbconvert_exporter": "python",
   "pygments_lexer": "ipython3",
   "version": "3.9.16"
  }
 },
 "nbformat": 4,
 "nbformat_minor": 5
}
