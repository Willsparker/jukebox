{
 "cells": [
  {
   "cell_type": "code",
   "execution_count": null,
   "id": "5144df45-deee-49fd-bee9-950483624285",
   "metadata": {
    "tags": []
   },
   "outputs": [],
   "source": [
    "!pip -q install onnxruntime"
   ]
  },
  {
   "cell_type": "code",
   "execution_count": null,
   "id": "202acbc3-aabf-40c1-b168-6b0adfd0edf7",
   "metadata": {
    "tags": []
   },
   "outputs": [],
   "source": [
    "token = \"insert-user-token-here\""
   ]
  },
  {
   "cell_type": "code",
   "execution_count": 60,
   "id": "ef4b9234-5a9a-48a8-a2e9-f37645a984ec",
   "metadata": {
    "tags": []
   },
   "outputs": [],
   "source": [
    "model_name = \"jukebox\""
   ]
  },
  {
   "cell_type": "code",
   "execution_count": 32,
   "id": "d4a0deb3-2a9c-4cdb-8936-41f4cd4adb9b",
   "metadata": {
    "tags": []
   },
   "outputs": [],
   "source": [
    "import pandas as pd\n",
    "import pickle\n",
    "import json\n",
    "import onnxruntime as rt\n",
    "import numpy as np\n",
    "import onnx\n",
    "\n",
    "import requests\n",
    "from urllib.parse import urljoin"
   ]
  },
  {
   "cell_type": "code",
   "execution_count": null,
   "id": "e37cf1e2-4d4c-463f-ac73-2288fc3d6909",
   "metadata": {
    "tags": []
   },
   "outputs": [],
   "source": [
    "X_train = pd.read_parquet('../2-dev_datascience/models/jukebox/1/artifacts/X_train.parquet')[:5000]"
   ]
  },
  {
   "cell_type": "code",
   "execution_count": null,
   "id": "cfd559f9-85cf-489b-9cd8-eaa1d2cbd7ae",
   "metadata": {
    "tags": []
   },
   "outputs": [],
   "source": [
    "with open('../2-dev_datascience/models/jukebox/1/artifacts/scaler.pkl', 'rb') as handle:\n",
    "    scaler = pickle.load(handle)"
   ]
  },
  {
   "cell_type": "code",
   "execution_count": null,
   "id": "3ba93238-f69f-49c8-a103-12c8ed320aa1",
   "metadata": {
    "tags": []
   },
   "outputs": [],
   "source": [
    "data = scaler.transform(X_train.values).tolist()"
   ]
  },
  {
   "cell_type": "code",
   "execution_count": null,
   "id": "a78c55ac-e954-4fcd-9de3-ab4d7a1e8152",
   "metadata": {
    "tags": []
   },
   "outputs": [],
   "source": [
    "sess = rt.InferenceSession(\"../2-dev_datascience/models/jukebox/1/model.onnx\", providers=rt.get_available_providers())\n",
    "input_name = sess.get_inputs()[0].name\n",
    "output_name = sess.get_outputs()[0].name\n",
    "y_pred_temp = sess.run([output_name], {input_name: data.astype(np.float32)})"
   ]
  },
  {
   "cell_type": "code",
   "execution_count": 16,
   "id": "e7e09f88-1b5f-4e47-bcfb-09866232bc08",
   "metadata": {
    "tags": []
   },
   "outputs": [],
   "source": [
    "training_data = {\n",
    "    \"model_name\": model_name,\n",
    "    \"data_tag\": \"TRAINING\",\n",
    "    \"request\": {\n",
    "        \"inputs\": [\n",
    "            {\n",
    "                \"name\": input_name,\n",
    "                \"shape\": np.shape(data),\n",
    "                \"datatype\": \"FP32\",\n",
    "                \"data\": data\n",
    "            }\n",
    "        ]    \n",
    "    },\n",
    "    \"response\": {\n",
    "        \"model_name\": model_name,\n",
    "        \"model_version\": \"1\",\n",
    "        \"outputs\": [\n",
    "            {\n",
    "                \"name\": output_name,\n",
    "                \"datatype\": \"FP32\",\n",
    "                \"shape\": np.shape(y_pred_temp[0]),\n",
    "                \"data\": y_pred_temp[0].tolist()\n",
    "            }\n",
    "        ]\n",
    "    }\n",
    "}\n"
   ]
  },
  {
   "cell_type": "code",
   "execution_count": 41,
   "id": "b7705b44-e0e9-4b96-bbff-81bbce4079fd",
   "metadata": {
    "tags": []
   },
   "outputs": [],
   "source": [
    "base_url = \"your-trustyai-service\"\n",
    "headers = {\n",
    "    \"Authorization\": f\"Bearer {token}\",\n",
    "    \"Content-Type\": \"application/json\"\n",
    "}"
   ]
  },
  {
   "cell_type": "code",
   "execution_count": null,
   "id": "e88b79f4-1788-424c-864d-4af919daec43",
   "metadata": {
    "tags": []
   },
   "outputs": [],
   "source": [
    "# Upload data\n",
    "endpoint = \"data/upload\"\n",
    "url = urljoin(base_url, endpoint)\n",
    "response = requests.post(url, headers=headers, json=training_data)\n",
    "print(response.text)"
   ]
  },
  {
   "cell_type": "code",
   "execution_count": null,
   "id": "1dcb5cd9-4fa8-4af4-bdef-4773a6218694",
   "metadata": {
    "tags": []
   },
   "outputs": [],
   "source": [
    "# Change the input and output names\n",
    "endpoint = \"info/names\"\n",
    "url = urljoin(base_url, endpoint)\n",
    "\n",
    "payload = {\n",
    "    \"modelId\": model_name,\n",
    "    \"inputMapping\": {\n",
    "        \"dense_input-0\": \"is_explicit\",\n",
    "        \"dense_input-1\": \"duration_ms\",\n",
    "        \"dense_input-2\": \"danceability\",\n",
    "        \"dense_input-3\": \"energy\",\n",
    "        \"dense_input-4\": \"key\",\n",
    "        \"dense_input-5\": \"loudness\",\n",
    "        \"dense_input-6\": \"mode\",\n",
    "        \"dense_input-7\": \"speechiness\",\n",
    "        \"dense_input-8\": \"acousticness\",\n",
    "        \"dense_input-9\": \"instrumentalness\",\n",
    "        \"dense_input-10\": \"liveness\",\n",
    "        \"dense_input-11\": \"valence\",\n",
    "        \"dense_input-12\": \"tempo\"\n",
    "    },\n",
    "    \"outputMapping\": {\n",
    "    }\n",
    "}\n",
    "\n",
    "response = requests.post(url, headers=headers, json=payload)\n",
    "print(response.text)"
   ]
  },
  {
   "cell_type": "code",
   "execution_count": null,
   "id": "c96ea7a1-3e4a-4d2b-abec-fc46e0330cf5",
   "metadata": {
    "tags": []
   },
   "outputs": [],
   "source": [
    "# Monitor meanshift\n",
    "# A p-value of 1.0 indicates a very high likelihood that the test and training data come from the same distribution, while a p-value < 0.05 indicates a statistically significant drift between train and test set\n",
    "endpoint = \"/metrics/drift/meanshift/request\"\n",
    "url = urljoin(base_url, endpoint)\n",
    "\n",
    "payload = {\n",
    "    \"modelId\": model_name,\n",
    "    \"referenceTag\": \"TRAINING\"\n",
    "}\n",
    "\n",
    "response = requests.post(url, headers=headers, json=payload)\n",
    "print(response.text)"
   ]
  },
  {
   "cell_type": "code",
   "execution_count": null,
   "id": "9ed75e24",
   "metadata": {},
   "outputs": [],
   "source": [
    "# Get bias for a specific field-couple\n",
    "endpoint = \"/metrics/group/fairness/spd\"\n",
    "url = urljoin(base_url, endpoint)\n",
    "\n",
    "payload = {\n",
    "    \"modelId\": model_name,\n",
    "    \"protectedAttribute\": \"is_explicit\",\n",
    "    \"privilegedAttribute\": 1.0,\n",
    "    \"unprivilegedAttribute\": 0.0,\n",
    "    \"outcomeName\": \"dense_4-13\",\n",
    "    \"favorableOutcome\": 0.5,\n",
    "    \"batchSize\": 1000\n",
    "}\n",
    "\n",
    "response = requests.post(url, headers=headers, json=payload)\n",
    "print(response.text)"
   ]
  },
  {
   "cell_type": "code",
   "execution_count": null,
   "id": "3a323695",
   "metadata": {},
   "outputs": [],
   "source": [
    "# Monitor the average value\n",
    "endpoint = \"/metrics/identity/request\"\n",
    "url = urljoin(base_url, endpoint)\n",
    "\n",
    "payload = {\n",
    "    \"modelId\": model_name,\n",
    "    \"columnName\": \"duration_ms\",\n",
    "    \"batchSize\": 256,\n",
    "}\n",
    "\n",
    "response = requests.post(url, headers=headers, json=payload)\n",
    "print(response.text)"
   ]
  },
  {
   "cell_type": "code",
   "execution_count": null,
   "id": "2024b207-c705-4cc2-9b27-ebab030a29ae",
   "metadata": {
    "tags": []
   },
   "outputs": [],
   "source": [
    "# See what we have registered\n",
    "endpoint = \"/info\"\n",
    "url = urljoin(base_url, endpoint)\n",
    "response = requests.get(url, headers=headers)\n",
    "print(response.text)"
   ]
  },
  {
   "cell_type": "markdown",
   "id": "71e3ecf6",
   "metadata": {},
   "source": [
    "### Then we need to send one request to start the tracking"
   ]
  },
  {
   "cell_type": "code",
   "execution_count": null,
   "id": "b667e590",
   "metadata": {},
   "outputs": [],
   "source": [
    "deployed_model_name = \"jukebox\"\n",
    "infer_endpoint = \"https://jukebox-robert-test.apps.cluster-5vbcm.5vbcm.sandbox692.opentlc.com\"\n",
    "infer_url = f\"{infer_endpoint}/v2/models/{deployed_model_name}/infer\"\n",
    "\n",
    "def rest_request(data):\n",
    "    json_data = {\n",
    "        \"inputs\": [\n",
    "            {\n",
    "                \"name\": \"dense_input\",\n",
    "                \"shape\": [1, 13],\n",
    "                \"datatype\": \"FP32\",\n",
    "                \"data\": data\n",
    "            }\n",
    "        ]\n",
    "    }\n",
    "\n",
    "    response = requests.post(infer_url, json=json_data, verify=False)\n",
    "    response_dict = response.json()\n",
    "    return response_dict['outputs'][0]['data']\n",
    "\n",
    "prediction = rest_request(data[0])"
   ]
  }
 ],
 "metadata": {
  "kernelspec": {
   "display_name": "Python 3.9",
   "language": "python",
   "name": "python3"
  },
  "language_info": {
   "codemirror_mode": {
    "name": "ipython",
    "version": 3
   },
   "file_extension": ".py",
   "mimetype": "text/x-python",
   "name": "python",
   "nbconvert_exporter": "python",
   "pygments_lexer": "ipython3",
   "version": "3.9.16"
  }
 },
 "nbformat": 4,
 "nbformat_minor": 5
}
