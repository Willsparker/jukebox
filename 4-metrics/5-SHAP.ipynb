{
 "cells": [
  {
   "cell_type": "markdown",
   "id": "430c9871",
   "metadata": {},
   "source": [
    "# SHAP\n",
    "\n",
    "SHAP (SHapley Additive exPlanations) is a method used to explain the output of machine learning models.  \n",
    "SHAP aims to explain how an input affects the output of the model, by showing the impact of each input feature on the output.  \n",
    "When reading the SHAP values, you will see for each input feature how much it positively or negatively pushed the output to the answer we got, compared to the average base value of the dataset.\n",
    "\n",
    "You can read more here: https://trustyai-explainability.github.io/trustyai-site/main/local-explainers.html"
   ]
  },
  {
   "cell_type": "code",
   "execution_count": 4,
   "id": "fe95ffca-bec7-4d0b-b976-80df5ddc0463",
   "metadata": {
    "tags": []
   },
   "outputs": [],
   "source": [
    "import pandas as pd\n",
    "import random\n",
    "\n",
    "import keras"
   ]
  },
  {
   "cell_type": "markdown",
   "id": "c129f634",
   "metadata": {},
   "source": [
    "Let's start by loading some artifacts.  \n",
    "We will need:\n",
    "- The ONNX model\n",
    "- Our pre-and-post processing artifacts\n",
    "    - scaler.pkl\n",
    "    - label_encoder.pkl\n",
    "- Some data\n",
    "    - The training inputs, these will be used to get an average input for our dataset\n",
    "    - The test data, these will be used to get a point we want to analyze"
   ]
  },
  {
   "cell_type": "code",
   "execution_count": null,
   "id": "9fc9845c-f417-4d5d-88c2-0aca52b3da25",
   "metadata": {
    "tags": []
   },
   "outputs": [],
   "source": [
    "onnx_session = rt.InferenceSession(\"../2-dev_datascience/models/jukebox/1/model.onnx\", providers=rt.get_available_providers())\n",
    "onnx_input_name = onnx_session.get_inputs()[0].name\n",
    "onnx_output_name = onnx_session.get_outputs()[0].name\n",
    "\n",
    "\n",
    "with open('../2-dev_datascience/models/jukebox/1/artifacts/scaler.pkl', 'rb') as handle:\n",
    "    scaler = pickle.load(handle)\n",
    "\n",
    "with open('../2-dev_datascience/models/jukebox/1/artifacts/label_encoder.pkl', 'rb') as handle:\n",
    "    label_encoder = pickle.load(handle)\n",
    "\n",
    "with open('../2-dev_datascience/models/jukebox/1/artifacts/y_test.pkl', 'rb') as handle:\n",
    "    y_test = pickle.load(handle)\n",
    "\n",
    "X_train = pd.read_parquet(\"../2-dev_datascience/models/jukebox/1/artifacts/X_train.parquet\")\n",
    "X_test = pd.read_parquet(\"../2-dev_datascience/models/jukebox/1/artifacts/X_test.parquet\")"
   ]
  },
  {
   "cell_type": "markdown",
   "id": "827d92ab",
   "metadata": {},
   "source": [
    "We arbitrarily choose the first data point (song) in our test data to be the data we want to test.  \n",
    "In practice, you might choose the data point that you predict the worst on, or a data point that gave an unexpected answer.  \n",
    "We also look at how our data point looks when normalized (after going through pre-processing). This is how it will look like going into the model"
   ]
  },
  {
   "cell_type": "code",
   "execution_count": null,
   "id": "cb55a6be-f889-4a35-9993-8d5111a830e8",
   "metadata": {
    "tags": []
   },
   "outputs": [],
   "source": [
    "point_to_explain = X_test.iloc[0:1]\n",
    "point_to_explain"
   ]
  },
  {
   "cell_type": "code",
   "execution_count": 10,
   "id": "f4ed0e3e-865e-4cb3-8e69-039e9b72217a",
   "metadata": {
    "tags": []
   },
   "outputs": [
    {
     "data": {
      "text/html": [
       "<div>\n",
       "<style scoped>\n",
       "    .dataframe tbody tr th:only-of-type {\n",
       "        vertical-align: middle;\n",
       "    }\n",
       "\n",
       "    .dataframe tbody tr th {\n",
       "        vertical-align: top;\n",
       "    }\n",
       "\n",
       "    .dataframe thead th {\n",
       "        text-align: right;\n",
       "    }\n",
       "</style>\n",
       "<table border=\"1\" class=\"dataframe\">\n",
       "  <thead>\n",
       "    <tr style=\"text-align: right;\">\n",
       "      <th></th>\n",
       "      <th>is_explicit</th>\n",
       "      <th>duration_ms</th>\n",
       "      <th>danceability</th>\n",
       "      <th>energy</th>\n",
       "      <th>key</th>\n",
       "      <th>loudness</th>\n",
       "      <th>mode</th>\n",
       "      <th>speechiness</th>\n",
       "      <th>acousticness</th>\n",
       "      <th>instrumentalness</th>\n",
       "      <th>liveness</th>\n",
       "      <th>valence</th>\n",
       "      <th>tempo</th>\n",
       "    </tr>\n",
       "  </thead>\n",
       "  <tbody>\n",
       "    <tr>\n",
       "      <th>644220</th>\n",
       "      <td>False</td>\n",
       "      <td>190560</td>\n",
       "      <td>0.841</td>\n",
       "      <td>0.783</td>\n",
       "      <td>6</td>\n",
       "      <td>-4.915</td>\n",
       "      <td>0</td>\n",
       "      <td>0.0432</td>\n",
       "      <td>0.1060</td>\n",
       "      <td>0.000002</td>\n",
       "      <td>0.0528</td>\n",
       "      <td>0.514</td>\n",
       "      <td>94.989</td>\n",
       "    </tr>\n",
       "    <tr>\n",
       "      <th>473163</th>\n",
       "      <td>False</td>\n",
       "      <td>146060</td>\n",
       "      <td>0.735</td>\n",
       "      <td>0.628</td>\n",
       "      <td>8</td>\n",
       "      <td>-5.572</td>\n",
       "      <td>0</td>\n",
       "      <td>0.2120</td>\n",
       "      <td>0.2580</td>\n",
       "      <td>0.000004</td>\n",
       "      <td>0.1000</td>\n",
       "      <td>0.192</td>\n",
       "      <td>103.925</td>\n",
       "    </tr>\n",
       "    <tr>\n",
       "      <th>585395</th>\n",
       "      <td>False</td>\n",
       "      <td>152078</td>\n",
       "      <td>0.760</td>\n",
       "      <td>0.747</td>\n",
       "      <td>0</td>\n",
       "      <td>-5.083</td>\n",
       "      <td>0</td>\n",
       "      <td>0.0282</td>\n",
       "      <td>0.0675</td>\n",
       "      <td>0.000003</td>\n",
       "      <td>0.3090</td>\n",
       "      <td>0.884</td>\n",
       "      <td>128.912</td>\n",
       "    </tr>\n",
       "    <tr>\n",
       "      <th>157601</th>\n",
       "      <td>True</td>\n",
       "      <td>170480</td>\n",
       "      <td>0.920</td>\n",
       "      <td>0.696</td>\n",
       "      <td>6</td>\n",
       "      <td>-3.356</td>\n",
       "      <td>0</td>\n",
       "      <td>0.0742</td>\n",
       "      <td>0.1830</td>\n",
       "      <td>0.000000</td>\n",
       "      <td>0.1490</td>\n",
       "      <td>0.545</td>\n",
       "      <td>106.966</td>\n",
       "    </tr>\n",
       "    <tr>\n",
       "      <th>839617</th>\n",
       "      <td>False</td>\n",
       "      <td>120600</td>\n",
       "      <td>0.858</td>\n",
       "      <td>0.677</td>\n",
       "      <td>8</td>\n",
       "      <td>-4.294</td>\n",
       "      <td>1</td>\n",
       "      <td>0.1180</td>\n",
       "      <td>0.1060</td>\n",
       "      <td>0.000000</td>\n",
       "      <td>0.2460</td>\n",
       "      <td>0.584</td>\n",
       "      <td>100.046</td>\n",
       "    </tr>\n",
       "    <tr>\n",
       "      <th>...</th>\n",
       "      <td>...</td>\n",
       "      <td>...</td>\n",
       "      <td>...</td>\n",
       "      <td>...</td>\n",
       "      <td>...</td>\n",
       "      <td>...</td>\n",
       "      <td>...</td>\n",
       "      <td>...</td>\n",
       "      <td>...</td>\n",
       "      <td>...</td>\n",
       "      <td>...</td>\n",
       "      <td>...</td>\n",
       "      <td>...</td>\n",
       "    </tr>\n",
       "    <tr>\n",
       "      <th>568129</th>\n",
       "      <td>True</td>\n",
       "      <td>197920</td>\n",
       "      <td>0.708</td>\n",
       "      <td>0.737</td>\n",
       "      <td>1</td>\n",
       "      <td>-4.045</td>\n",
       "      <td>1</td>\n",
       "      <td>0.0436</td>\n",
       "      <td>0.0739</td>\n",
       "      <td>0.001620</td>\n",
       "      <td>0.0955</td>\n",
       "      <td>0.607</td>\n",
       "      <td>91.986</td>\n",
       "    </tr>\n",
       "    <tr>\n",
       "      <th>285391</th>\n",
       "      <td>False</td>\n",
       "      <td>180530</td>\n",
       "      <td>0.492</td>\n",
       "      <td>0.686</td>\n",
       "      <td>5</td>\n",
       "      <td>-6.970</td>\n",
       "      <td>0</td>\n",
       "      <td>0.1400</td>\n",
       "      <td>0.2800</td>\n",
       "      <td>0.000000</td>\n",
       "      <td>0.1370</td>\n",
       "      <td>0.392</td>\n",
       "      <td>109.802</td>\n",
       "    </tr>\n",
       "    <tr>\n",
       "      <th>815084</th>\n",
       "      <td>False</td>\n",
       "      <td>190560</td>\n",
       "      <td>0.841</td>\n",
       "      <td>0.783</td>\n",
       "      <td>6</td>\n",
       "      <td>-4.915</td>\n",
       "      <td>0</td>\n",
       "      <td>0.0432</td>\n",
       "      <td>0.1060</td>\n",
       "      <td>0.000002</td>\n",
       "      <td>0.0528</td>\n",
       "      <td>0.514</td>\n",
       "      <td>94.989</td>\n",
       "    </tr>\n",
       "    <tr>\n",
       "      <th>722116</th>\n",
       "      <td>False</td>\n",
       "      <td>220750</td>\n",
       "      <td>0.593</td>\n",
       "      <td>0.354</td>\n",
       "      <td>4</td>\n",
       "      <td>-8.270</td>\n",
       "      <td>1</td>\n",
       "      <td>0.0279</td>\n",
       "      <td>0.6980</td>\n",
       "      <td>0.000036</td>\n",
       "      <td>0.2930</td>\n",
       "      <td>0.241</td>\n",
       "      <td>120.010</td>\n",
       "    </tr>\n",
       "    <tr>\n",
       "      <th>517369</th>\n",
       "      <td>True</td>\n",
       "      <td>120615</td>\n",
       "      <td>0.860</td>\n",
       "      <td>0.722</td>\n",
       "      <td>6</td>\n",
       "      <td>-5.761</td>\n",
       "      <td>1</td>\n",
       "      <td>0.2440</td>\n",
       "      <td>0.5300</td>\n",
       "      <td>0.000000</td>\n",
       "      <td>0.2160</td>\n",
       "      <td>0.824</td>\n",
       "      <td>97.548</td>\n",
       "    </tr>\n",
       "  </tbody>\n",
       "</table>\n",
       "<p>714275 rows × 13 columns</p>\n",
       "</div>"
      ],
      "text/plain": [
       "        is_explicit  duration_ms  danceability  energy  key  loudness  mode  \\\n",
       "644220        False       190560         0.841   0.783    6    -4.915     0   \n",
       "473163        False       146060         0.735   0.628    8    -5.572     0   \n",
       "585395        False       152078         0.760   0.747    0    -5.083     0   \n",
       "157601         True       170480         0.920   0.696    6    -3.356     0   \n",
       "839617        False       120600         0.858   0.677    8    -4.294     1   \n",
       "...             ...          ...           ...     ...  ...       ...   ...   \n",
       "568129         True       197920         0.708   0.737    1    -4.045     1   \n",
       "285391        False       180530         0.492   0.686    5    -6.970     0   \n",
       "815084        False       190560         0.841   0.783    6    -4.915     0   \n",
       "722116        False       220750         0.593   0.354    4    -8.270     1   \n",
       "517369         True       120615         0.860   0.722    6    -5.761     1   \n",
       "\n",
       "        speechiness  acousticness  instrumentalness  liveness  valence  \\\n",
       "644220       0.0432        0.1060          0.000002    0.0528    0.514   \n",
       "473163       0.2120        0.2580          0.000004    0.1000    0.192   \n",
       "585395       0.0282        0.0675          0.000003    0.3090    0.884   \n",
       "157601       0.0742        0.1830          0.000000    0.1490    0.545   \n",
       "839617       0.1180        0.1060          0.000000    0.2460    0.584   \n",
       "...             ...           ...               ...       ...      ...   \n",
       "568129       0.0436        0.0739          0.001620    0.0955    0.607   \n",
       "285391       0.1400        0.2800          0.000000    0.1370    0.392   \n",
       "815084       0.0432        0.1060          0.000002    0.0528    0.514   \n",
       "722116       0.0279        0.6980          0.000036    0.2930    0.241   \n",
       "517369       0.2440        0.5300          0.000000    0.2160    0.824   \n",
       "\n",
       "          tempo  \n",
       "644220   94.989  \n",
       "473163  103.925  \n",
       "585395  128.912  \n",
       "157601  106.966  \n",
       "839617  100.046  \n",
       "...         ...  \n",
       "568129   91.986  \n",
       "285391  109.802  \n",
       "815084   94.989  \n",
       "722116  120.010  \n",
       "517369   97.548  \n",
       "\n",
       "[714275 rows x 13 columns]"
      ]
     },
     "execution_count": 10,
     "metadata": {},
     "output_type": "execute_result"
    }
   ],
   "source": [
    "X_train"
   ]
  },
  {
   "cell_type": "code",
   "execution_count": 15,
   "id": "0cd30546-484f-487c-9aa1-c532d16df6a3",
   "metadata": {
    "tags": []
   },
   "outputs": [],
   "source": [
    "output_names = label_encoder.classes_\n",
    "output_names"
   ]
  },
  {
   "cell_type": "markdown",
   "id": "22e29b8f",
   "metadata": {},
   "source": [
    "TrustyAI SHAP explainer requires our model to have a pandas dataframe as an input, and numpy or pandas output, so we wrap our model in a pred() function that makes sure the input and output are converted properly. "
   ]
  },
  {
   "cell_type": "code",
   "execution_count": null,
   "id": "0df053e9-bf56-4b03-9e9c-f7876cb19269",
   "metadata": {},
   "outputs": [],
   "source": [
    "def pred(x):\n",
    "    pred = onnx_session.run([onnx_output_name], {onnx_input_name: x.to_numpy().astype(np.float32)})[0]\n",
    "    return pd.DataFrame(pred, columns=output_names)"
   ]
  },
  {
   "cell_type": "code",
   "execution_count": null,
   "id": "7f587512-38e8-4e80-b78d-f6296d573924",
   "metadata": {
    "tags": []
   },
   "outputs": [],
   "source": [
    "from trustyai.model import Model\n",
    "trustyai_model = Model(pred, dataframe_input=True, output_names=output_names)"
   ]
  },
  {
   "cell_type": "markdown",
   "id": "0e713b40",
   "metadata": {},
   "source": [
    "Let's try to use our TrustyAI Model to predict the output of our data point we want to explain with SHAP."
   ]
  },
  {
   "cell_type": "code",
   "execution_count": null,
   "id": "acc63b48-8d61-4028-bdbd-219217e4f5fc",
   "metadata": {
    "tags": []
   },
   "outputs": [],
   "source": [
    "prediction = trustyai_model(normalize_dataframe(point_to_explain))\n",
    "prediction"
   ]
  },
  {
   "cell_type": "markdown",
   "id": "bc38c14c",
   "metadata": {},
   "source": [
    "And with everything set up, we can create a SHAP explainer and let it analyze our data point!  \n",
    "You can also note that we add 100 data points from our training dataset to the SHAPExplainer, this is used to calculate the average base values of our dataset. With this, we can see how much our interesting datapoint contributes to the prediction compared to what a \"standard\" value would."
   ]
  },
  {
   "cell_type": "code",
   "execution_count": null,
   "id": "165978b5-2c24-4043-8757-f8944e815695",
   "metadata": {
    "tags": []
   },
   "outputs": [],
   "source": [
    "from trustyai.explainers import SHAPExplainer\n",
    "explainer = SHAPExplainer(background=normalize_dataframe(X_train[:100]))"
   ]
  },
  {
   "cell_type": "code",
   "execution_count": null,
   "id": "a8996696-e26e-4eca-a907-6e62c033f9d3",
   "metadata": {
    "tags": []
   },
   "outputs": [],
   "source": [
    "explanations = explainer.explain(inputs=normalize_dataframe(point_to_explain),\n",
    "                                 outputs=prediction,\n",
    "                                 model=trustyai_model)"
   ]
  },
  {
   "cell_type": "markdown",
   "id": "6de2e45e",
   "metadata": {},
   "source": [
    "With our SHAP Explainer ready we can start looking at the results.\n",
    "\n",
    "Let's choose a specific output country which we want to know how it got affected by the input values.  \n",
    "CH is the country that we are supposed to get as the popular country for this input, so it's especially interesting to see the input's effect on that output.  \n",
    "That being said, feel free to try with a few other countries and see what happens.  "
   ]
  },
  {
   "cell_type": "code",
   "execution_count": null,
   "id": "ebd777e2",
   "metadata": {},
   "outputs": [],
   "source": [
    "COUNTRY_OF_INTEREST = \"CH\""
   ]
  },
  {
   "cell_type": "markdown",
   "id": "ee30d71c",
   "metadata": {},
   "source": [
    "First, we will get a table of values.  \n",
    "Here we can see the **Mean Background Value** - this is the average base value we were talking about before.  \n",
    "We can also see our **Value**, which is the normalized data point that we sent into the explainer. Red values are lower than the average value and green values are higher.  \n",
    "Finally, we have the **SHAP Value**. These indicate how much that input feature had an effect on the output. Red indicates a negative contribution to the prediction while green a positive contribution. The larger the value, the larger the contribution."
   ]
  },
  {
   "cell_type": "code",
   "execution_count": null,
   "id": "946e764b-4412-4c47-9516-b38eae9c0b99",
   "metadata": {},
   "outputs": [],
   "source": [
    "explanations.as_html()[COUNTRY_OF_INTEREST]"
   ]
  },
  {
   "cell_type": "markdown",
   "id": "98c53c38",
   "metadata": {},
   "source": [
    "We can also visualize it as a candlestick plot, seeing how the different input features build up to the output value."
   ]
  },
  {
   "cell_type": "code",
   "execution_count": null,
   "id": "d732abf7",
   "metadata": {},
   "outputs": [],
   "source": [
    "from trustyai.visualizations.shap import SHAPViz\n",
    "SHAPViz()._matplotlib_plot(explanations=explanations, output_name=COUNTRY_OF_INTEREST)"
   ]
  }
 ],
 "metadata": {
  "kernelspec": {
   "display_name": "Python 3.9",
   "language": "python",
   "name": "python3"
  },
  "language_info": {
   "codemirror_mode": {
    "name": "ipython",
    "version": 3
   },
   "file_extension": ".py",
   "mimetype": "text/x-python",
   "name": "python",
   "nbconvert_exporter": "python",
   "pygments_lexer": "ipython3",
   "version": "3.9.16"
  }
 },
 "nbformat": 4,
 "nbformat_minor": 5
}
