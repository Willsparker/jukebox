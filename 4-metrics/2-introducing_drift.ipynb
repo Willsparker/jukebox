{
 "cells": [
  {
   "cell_type": "markdown",
   "id": "dcb74e33",
   "metadata": {},
   "source": [
    "# Introducing Drift\n",
    "Now that we have set up TrustyAI to detect drifts, let's introduce some and see what happens.  \n",
    "To do this, we will simply send a bunch of requests based on our testing dataset.  \n",
    "Because we only sent a small size of our training dataset to TrustyAI, there is a good chance that the testing dataset will look significantly different."
   ]
  },
  {
   "cell_type": "code",
   "execution_count": null,
   "id": "5f109c84-71e8-49ef-be79-0c276f9ef96a",
   "metadata": {
    "tags": []
   },
   "outputs": [],
   "source": [
    "import pandas as pd\n",
    "import matplotlib.pyplot as plt\n",
    "import pickle\n",
    "import numpy as np\n",
    "import requests"
   ]
  },
  {
   "cell_type": "code",
   "execution_count": null,
   "id": "968aecd8-43d0-485f-992b-aaceb645023c",
   "metadata": {
    "tags": []
   },
   "outputs": [],
   "source": [
    "# Disable some warning messages\n",
    "import urllib3\n",
    "urllib3.disable_warnings(urllib3.exceptions.InsecureRequestWarning)"
   ]
  },
  {
   "cell_type": "markdown",
   "id": "c0481ad6",
   "metadata": {},
   "source": [
    "Make sure to add your test models endpoint as `infer_endpoint` here."
   ]
  },
  {
   "cell_type": "code",
   "execution_count": null,
   "id": "c9e89c53-6fbe-465f-9146-7123e19180fa",
   "metadata": {
    "tags": []
   },
   "outputs": [],
   "source": [
    "deployed_model_name = \"jukebox\"\n",
    "infer_endpoint = \"<paste-the-link-here>\"\n",
    "infer_url = f\"{infer_endpoint}/v2/models/{deployed_model_name}/infer\""
   ]
  },
  {
   "cell_type": "code",
   "execution_count": null,
   "id": "2fd3d31a-e7b1-4b85-81c6-2659f139c3da",
   "metadata": {
    "tags": []
   },
   "outputs": [],
   "source": [
    "def rest_request(data):\n",
    "    json_data = {\n",
    "        \"inputs\": [\n",
    "            {\n",
    "                \"name\": \"dense_input\",\n",
    "                \"shape\": [1, 13],\n",
    "                \"datatype\": \"FP32\",\n",
    "                \"data\": data\n",
    "            }\n",
    "        ]\n",
    "    }\n",
    "\n",
    "    response = requests.post(infer_url, json=json_data, verify=False)\n",
    "    response_dict = response.json()\n",
    "    return response_dict['outputs'][0]['data']\n"
   ]
  },
  {
   "cell_type": "code",
   "execution_count": null,
   "id": "8c521c75-4008-4d52-9e46-e6e1ab8e15a6",
   "metadata": {
    "tags": []
   },
   "outputs": [],
   "source": [
    "# Load the scaler and test data\n",
    "# TODO: Can we get these from the pipeline S3 artifact store?\n",
    "with open('../2-dev_datascience/models/jukebox/1/artifacts/scaler.pkl', 'rb') as handle:\n",
    "    scaler = pickle.load(handle)\n",
    "\n",
    "X_test = pd.read_parquet('../2-dev_datascience/models/jukebox/1/artifacts/X_test.parquet')"
   ]
  },
  {
   "cell_type": "code",
   "execution_count": null,
   "id": "b7aa6a33-3fec-4c48-afe8-fb2fa7fc5ddc",
   "metadata": {
    "tags": []
   },
   "outputs": [],
   "source": [
    "# Transform our dataset\n",
    "X_test_scaled = scaler.transform(X_test)"
   ]
  },
  {
   "cell_type": "markdown",
   "id": "607207f4-9588-43d4-9303-561093890902",
   "metadata": {},
   "source": [
    "We are sending 5000 samples from our test dataset, so this may take a few minutes."
   ]
  },
  {
   "cell_type": "code",
   "execution_count": null,
   "id": "bf1c9a30-8fcf-4a6e-abea-21077516088a",
   "metadata": {
    "tags": []
   },
   "outputs": [],
   "source": [
    "# Sending predictions\n",
    "for i, sample in enumerate(X_test_scaled[:5000]):\n",
    "    if i%500==0:\n",
    "        print(f\"{i} samples sent\")\n",
    "    prediction = rest_request(X_test_scaled[0].tolist())"
   ]
  }
 ],
 "metadata": {
  "kernelspec": {
   "display_name": "Python 3.9",
   "language": "python",
   "name": "python3"
  },
  "language_info": {
   "codemirror_mode": {
    "name": "ipython",
    "version": 3
   },
   "file_extension": ".py",
   "mimetype": "text/x-python",
   "name": "python",
   "nbconvert_exporter": "python",
   "pygments_lexer": "ipython3",
   "version": "3.9.16"
  }
 },
 "nbformat": 4,
 "nbformat_minor": 5
}
