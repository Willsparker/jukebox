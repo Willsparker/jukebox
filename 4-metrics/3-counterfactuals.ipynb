{
 "cells": [
  {
   "cell_type": "code",
   "execution_count": 1,
   "id": "3045f850-61b1-4b91-9ccc-33a9dd297040",
   "metadata": {
    "tags": []
   },
   "outputs": [
    {
     "name": "stdout",
     "output_type": "stream",
     "text": [
      "\n",
      "\u001b[1m[\u001b[0m\u001b[34;49mnotice\u001b[0m\u001b[1;39;49m]\u001b[0m\u001b[39;49m A new release of pip available: \u001b[0m\u001b[31;49m22.2.2\u001b[0m\u001b[39;49m -> \u001b[0m\u001b[32;49m24.3.1\u001b[0m\n",
      "\u001b[1m[\u001b[0m\u001b[34;49mnotice\u001b[0m\u001b[1;39;49m]\u001b[0m\u001b[39;49m To update, run: \u001b[0m\u001b[32;49mpip install --upgrade pip\u001b[0m\n"
     ]
    }
   ],
   "source": [
    "!pip -q install keras \"tensorflow==2.15.1\" \"onnx\" \"seaborn\" \"onnxruntime\""
   ]
  },
  {
   "cell_type": "code",
   "execution_count": 2,
   "id": "c3ae84ab-cd63-4e14-b8b6-177076ccec25",
   "metadata": {
    "tags": []
   },
   "outputs": [
    {
     "name": "stderr",
     "output_type": "stream",
     "text": [
      "2024-12-08 18:58:20.327854: I external/local_tsl/tsl/cuda/cudart_stub.cc:31] Could not find cuda drivers on your machine, GPU will not be used.\n",
      "2024-12-08 18:58:20.399564: E external/local_xla/xla/stream_executor/cuda/cuda_dnn.cc:9261] Unable to register cuDNN factory: Attempting to register factory for plugin cuDNN when one has already been registered\n",
      "2024-12-08 18:58:20.399639: E external/local_xla/xla/stream_executor/cuda/cuda_fft.cc:607] Unable to register cuFFT factory: Attempting to register factory for plugin cuFFT when one has already been registered\n",
      "2024-12-08 18:58:20.401279: E external/local_xla/xla/stream_executor/cuda/cuda_blas.cc:1515] Unable to register cuBLAS factory: Attempting to register factory for plugin cuBLAS when one has already been registered\n",
      "2024-12-08 18:58:20.411081: I external/local_tsl/tsl/cuda/cudart_stub.cc:31] Could not find cuda drivers on your machine, GPU will not be used.\n",
      "2024-12-08 18:58:20.412322: I tensorflow/core/platform/cpu_feature_guard.cc:182] This TensorFlow binary is optimized to use available CPU instructions in performance-critical operations.\n",
      "To enable the following instructions: AVX2 FMA, in other operations, rebuild TensorFlow with the appropriate compiler flags.\n",
      "2024-12-08 18:58:21.790157: W tensorflow/compiler/tf2tensorrt/utils/py_utils.cc:38] TF-TRT Warning: Could not find TensorRT\n"
     ]
    }
   ],
   "source": [
    "import keras\n",
    "import pickle\n",
    "import pandas as pd\n",
    "import numpy as np"
   ]
  },
  {
   "cell_type": "code",
   "execution_count": 4,
   "id": "630fce98-5199-419c-9015-79ea646e7ad4",
   "metadata": {
    "tags": []
   },
   "outputs": [],
   "source": [
    "keras_model = keras.saving.load_model(\"../2-dev_datascience/models/jukebox/1/model.keras\")"
   ]
  },
  {
   "cell_type": "code",
   "execution_count": 6,
   "id": "54bc87a7-7fd4-4251-b4f4-616500a6cbe7",
   "metadata": {
    "tags": []
   },
   "outputs": [],
   "source": [
    "#Load the scaler and label encoder\n",
    "with open('../2-dev_datascience/models/jukebox/1/artifacts/scaler.pkl', 'rb') as handle:\n",
    "    scaler = pickle.load(handle)\n",
    "    \n",
    "with open('../2-dev_datascience/models/jukebox/1/artifacts/label_encoder.pkl', 'rb') as handle:\n",
    "    label_encoder = pickle.load(handle)"
   ]
  },
  {
   "cell_type": "code",
   "execution_count": 7,
   "id": "70c53763-77c3-4060-9583-b375e0e3fbcd",
   "metadata": {
    "tags": []
   },
   "outputs": [
    {
     "data": {
      "text/html": [
       "<div>\n",
       "<style scoped>\n",
       "    .dataframe tbody tr th:only-of-type {\n",
       "        vertical-align: middle;\n",
       "    }\n",
       "\n",
       "    .dataframe tbody tr th {\n",
       "        vertical-align: top;\n",
       "    }\n",
       "\n",
       "    .dataframe thead th {\n",
       "        text-align: right;\n",
       "    }\n",
       "</style>\n",
       "<table border=\"1\" class=\"dataframe\">\n",
       "  <thead>\n",
       "    <tr style=\"text-align: right;\">\n",
       "      <th></th>\n",
       "      <th>spotify_id</th>\n",
       "      <th>name</th>\n",
       "      <th>artists</th>\n",
       "      <th>snapshot_date</th>\n",
       "      <th>is_explicit</th>\n",
       "      <th>duration_ms</th>\n",
       "      <th>danceability</th>\n",
       "      <th>energy</th>\n",
       "      <th>key</th>\n",
       "      <th>loudness</th>\n",
       "      <th>mode</th>\n",
       "      <th>speechiness</th>\n",
       "      <th>acousticness</th>\n",
       "      <th>instrumentalness</th>\n",
       "      <th>liveness</th>\n",
       "      <th>valence</th>\n",
       "      <th>tempo</th>\n",
       "      <th>time_signature</th>\n",
       "    </tr>\n",
       "  </thead>\n",
       "  <tbody>\n",
       "    <tr>\n",
       "      <th>409964</th>\n",
       "      <td>6AI3ezQ4o3HUoP6Dhudph3</td>\n",
       "      <td>Not Like Us</td>\n",
       "      <td>Kendrick Lamar</td>\n",
       "      <td>2024-05-06</td>\n",
       "      <td>True</td>\n",
       "      <td>274192</td>\n",
       "      <td>0.898</td>\n",
       "      <td>0.472</td>\n",
       "      <td>1</td>\n",
       "      <td>-7.001</td>\n",
       "      <td>1</td>\n",
       "      <td>0.0776</td>\n",
       "      <td>0.0107</td>\n",
       "      <td>0.0</td>\n",
       "      <td>0.141</td>\n",
       "      <td>0.214</td>\n",
       "      <td>101.061</td>\n",
       "      <td>4</td>\n",
       "    </tr>\n",
       "  </tbody>\n",
       "</table>\n",
       "</div>"
      ],
      "text/plain": [
       "                    spotify_id         name         artists snapshot_date  \\\n",
       "409964  6AI3ezQ4o3HUoP6Dhudph3  Not Like Us  Kendrick Lamar    2024-05-06   \n",
       "\n",
       "        is_explicit  duration_ms  danceability  energy  key  loudness  mode  \\\n",
       "409964         True       274192         0.898   0.472    1    -7.001     1   \n",
       "\n",
       "        speechiness  acousticness  instrumentalness  liveness  valence  \\\n",
       "409964       0.0776        0.0107               0.0     0.141    0.214   \n",
       "\n",
       "          tempo  time_signature  \n",
       "409964  101.061               4  "
      ]
     },
     "execution_count": 7,
     "metadata": {},
     "output_type": "execute_result"
    }
   ],
   "source": [
    "# We pick the properties of our favorite song\n",
    "song_properties = pd.read_parquet('../99-data_prep/song_properties.parquet')\n",
    "favorite_song = song_properties.loc[song_properties[\"name\"]==\"Not Like Us\"]\n",
    "favorite_song"
   ]
  },
  {
   "cell_type": "code",
   "execution_count": 8,
   "id": "bb28dd31-4486-45ad-b8aa-a6702aac236e",
   "metadata": {
    "tags": []
   },
   "outputs": [
    {
     "data": {
      "text/html": [
       "<div>\n",
       "<style scoped>\n",
       "    .dataframe tbody tr th:only-of-type {\n",
       "        vertical-align: middle;\n",
       "    }\n",
       "\n",
       "    .dataframe tbody tr th {\n",
       "        vertical-align: top;\n",
       "    }\n",
       "\n",
       "    .dataframe thead th {\n",
       "        text-align: right;\n",
       "    }\n",
       "</style>\n",
       "<table border=\"1\" class=\"dataframe\">\n",
       "  <thead>\n",
       "    <tr style=\"text-align: right;\">\n",
       "      <th></th>\n",
       "      <th>409964</th>\n",
       "    </tr>\n",
       "  </thead>\n",
       "  <tbody>\n",
       "    <tr>\n",
       "      <th>is_explicit</th>\n",
       "      <td>True</td>\n",
       "    </tr>\n",
       "    <tr>\n",
       "      <th>duration_ms</th>\n",
       "      <td>274192</td>\n",
       "    </tr>\n",
       "    <tr>\n",
       "      <th>danceability</th>\n",
       "      <td>0.898</td>\n",
       "    </tr>\n",
       "    <tr>\n",
       "      <th>energy</th>\n",
       "      <td>0.472</td>\n",
       "    </tr>\n",
       "    <tr>\n",
       "      <th>key</th>\n",
       "      <td>1</td>\n",
       "    </tr>\n",
       "    <tr>\n",
       "      <th>loudness</th>\n",
       "      <td>-7.001</td>\n",
       "    </tr>\n",
       "    <tr>\n",
       "      <th>mode</th>\n",
       "      <td>1</td>\n",
       "    </tr>\n",
       "    <tr>\n",
       "      <th>speechiness</th>\n",
       "      <td>0.0776</td>\n",
       "    </tr>\n",
       "    <tr>\n",
       "      <th>acousticness</th>\n",
       "      <td>0.0107</td>\n",
       "    </tr>\n",
       "    <tr>\n",
       "      <th>instrumentalness</th>\n",
       "      <td>0.0</td>\n",
       "    </tr>\n",
       "    <tr>\n",
       "      <th>liveness</th>\n",
       "      <td>0.141</td>\n",
       "    </tr>\n",
       "    <tr>\n",
       "      <th>valence</th>\n",
       "      <td>0.214</td>\n",
       "    </tr>\n",
       "    <tr>\n",
       "      <th>tempo</th>\n",
       "      <td>101.061</td>\n",
       "    </tr>\n",
       "  </tbody>\n",
       "</table>\n",
       "</div>"
      ],
      "text/plain": [
       "                   409964\n",
       "is_explicit          True\n",
       "duration_ms        274192\n",
       "danceability        0.898\n",
       "energy              0.472\n",
       "key                     1\n",
       "loudness           -7.001\n",
       "mode                    1\n",
       "speechiness        0.0776\n",
       "acousticness       0.0107\n",
       "instrumentalness      0.0\n",
       "liveness            0.141\n",
       "valence             0.214\n",
       "tempo             101.061"
      ]
     },
     "execution_count": 8,
     "metadata": {},
     "output_type": "execute_result"
    }
   ],
   "source": [
    "feature_df = favorite_song[['is_explicit', 'duration_ms', 'danceability', 'energy', 'key', 'loudness', 'mode', 'speechiness', 'acousticness', 'instrumentalness', 'liveness', 'valence', 'tempo']]\n",
    "feature_df.T"
   ]
  },
  {
   "cell_type": "code",
   "execution_count": 9,
   "id": "6e6cd27c-04d6-4217-8fa1-d23885bb4890",
   "metadata": {
    "tags": []
   },
   "outputs": [
    {
     "name": "stderr",
     "output_type": "stream",
     "text": [
      "/opt/app-root/lib64/python3.9/site-packages/sklearn/base.py:486: UserWarning: X has feature names, but MinMaxScaler was fitted without feature names\n",
      "  warnings.warn(\n"
     ]
    },
    {
     "data": {
      "text/plain": [
       "array([1.        , 0.27927992, 0.90890688, 0.47293528, 0.09090909,\n",
       "       0.74772598, 1.        , 0.08425624, 0.01073549, 0.        ,\n",
       "       0.1318328 , 0.21572581, 0.42839339])"
      ]
     },
     "execution_count": 9,
     "metadata": {},
     "output_type": "execute_result"
    }
   ],
   "source": [
    "scaled_feature = scaler.transform(feature_df)[0]\n",
    "scaled_feature"
   ]
  },
  {
   "cell_type": "code",
   "execution_count": 10,
   "id": "4c5ed928-58f6-43ee-8fb9-b09e9e4ac897",
   "metadata": {
    "tags": []
   },
   "outputs": [
    {
     "data": {
      "text/html": [
       "<div>\n",
       "<style scoped>\n",
       "    .dataframe tbody tr th:only-of-type {\n",
       "        vertical-align: middle;\n",
       "    }\n",
       "\n",
       "    .dataframe tbody tr th {\n",
       "        vertical-align: top;\n",
       "    }\n",
       "\n",
       "    .dataframe thead th {\n",
       "        text-align: right;\n",
       "    }\n",
       "</style>\n",
       "<table border=\"1\" class=\"dataframe\">\n",
       "  <thead>\n",
       "    <tr style=\"text-align: right;\">\n",
       "      <th></th>\n",
       "      <th>0</th>\n",
       "    </tr>\n",
       "  </thead>\n",
       "  <tbody>\n",
       "    <tr>\n",
       "      <th>is_explicit</th>\n",
       "      <td>1.000000</td>\n",
       "    </tr>\n",
       "    <tr>\n",
       "      <th>duration_ms</th>\n",
       "      <td>0.279280</td>\n",
       "    </tr>\n",
       "    <tr>\n",
       "      <th>danceability</th>\n",
       "      <td>0.908907</td>\n",
       "    </tr>\n",
       "    <tr>\n",
       "      <th>energy</th>\n",
       "      <td>0.472935</td>\n",
       "    </tr>\n",
       "    <tr>\n",
       "      <th>key</th>\n",
       "      <td>0.090909</td>\n",
       "    </tr>\n",
       "    <tr>\n",
       "      <th>loudness</th>\n",
       "      <td>0.747726</td>\n",
       "    </tr>\n",
       "    <tr>\n",
       "      <th>mode</th>\n",
       "      <td>1.000000</td>\n",
       "    </tr>\n",
       "    <tr>\n",
       "      <th>speechiness</th>\n",
       "      <td>0.084256</td>\n",
       "    </tr>\n",
       "    <tr>\n",
       "      <th>acousticness</th>\n",
       "      <td>0.010735</td>\n",
       "    </tr>\n",
       "    <tr>\n",
       "      <th>instrumentalness</th>\n",
       "      <td>0.000000</td>\n",
       "    </tr>\n",
       "    <tr>\n",
       "      <th>liveness</th>\n",
       "      <td>0.131833</td>\n",
       "    </tr>\n",
       "    <tr>\n",
       "      <th>valence</th>\n",
       "      <td>0.215726</td>\n",
       "    </tr>\n",
       "    <tr>\n",
       "      <th>tempo</th>\n",
       "      <td>0.428393</td>\n",
       "    </tr>\n",
       "  </tbody>\n",
       "</table>\n",
       "</div>"
      ],
      "text/plain": [
       "                         0\n",
       "is_explicit       1.000000\n",
       "duration_ms       0.279280\n",
       "danceability      0.908907\n",
       "energy            0.472935\n",
       "key               0.090909\n",
       "loudness          0.747726\n",
       "mode              1.000000\n",
       "speechiness       0.084256\n",
       "acousticness      0.010735\n",
       "instrumentalness  0.000000\n",
       "liveness          0.131833\n",
       "valence           0.215726\n",
       "tempo             0.428393"
      ]
     },
     "execution_count": 10,
     "metadata": {},
     "output_type": "execute_result"
    }
   ],
   "source": [
    "feature_values = {\n",
    "    \"is_explicit\": scaled_feature[0],\n",
    "    \"duration_ms\": scaled_feature[1],\n",
    "    \"danceability\": scaled_feature[2],\n",
    "    \"energy\": scaled_feature[3],\n",
    "    \"key\": scaled_feature[4],\n",
    "    \"loudness\": scaled_feature[5],\n",
    "    \"mode\": scaled_feature[6],\n",
    "    \"speechiness\": scaled_feature[7],\n",
    "    \"acousticness\": scaled_feature[8],\n",
    "    \"instrumentalness\": scaled_feature[9],\n",
    "    \"liveness\": scaled_feature[10],\n",
    "    \"valence\": scaled_feature[11],\n",
    "    \"tempo\": scaled_feature[12]\n",
    "}\n",
    "\n",
    "feature_df_2 = pd.DataFrame([feature_values])\n",
    "feature_df_2.T"
   ]
  },
  {
   "cell_type": "code",
   "execution_count": 14,
   "id": "c5bc8322-9800-477d-a080-9d66ffb05def",
   "metadata": {
    "tags": []
   },
   "outputs": [
    {
     "name": "stdout",
     "output_type": "stream",
     "text": [
      "1/1 [==============================] - 0s 86ms/step\n",
      "0.0078033186\n"
     ]
    }
   ],
   "source": [
    "print(keras_model.predict(feature_df_2)[0][13])\n",
    "# print(f\"Paid loan is predicted as: {xgb.predict(feature_df)}\")"
   ]
  },
  {
   "cell_type": "code",
   "execution_count": 15,
   "id": "2003c45e-eefe-42a2-a65e-4b4126cd07ee",
   "metadata": {
    "tags": []
   },
   "outputs": [],
   "source": [
    "output_names = []\n",
    "for i in range(72):\n",
    "    output_names.append(f\"output-{i}\")"
   ]
  },
  {
   "cell_type": "code",
   "execution_count": 63,
   "id": "260c648d-30d2-488f-bf62-6e680d50fbaa",
   "metadata": {
    "tags": []
   },
   "outputs": [],
   "source": [
    "PRED_COUNTRY = \"output-8\""
   ]
  },
  {
   "cell_type": "code",
   "execution_count": 64,
   "id": "39041f8e-fce1-496b-9b75-c3aff9c1ae69",
   "metadata": {
    "tags": []
   },
   "outputs": [],
   "source": [
    "def pred(x):\n",
    "    pred = keras_model.predict(x)\n",
    "    pred = np.squeeze(pred)\n",
    "    pred = {output_names[i]: pred[i] for i in range(pred.shape[0])}\n",
    "    print(pred[PRED_COUNTRY])\n",
    "    if pred[PRED_COUNTRY] >= 0.3 and pred[\"output-2\"] <= 0.9:\n",
    "        pred = {PRED_COUNTRY: True}\n",
    "    else:\n",
    "        pred = {PRED_COUNTRY: False}\n",
    "    return pd.DataFrame([pred])"
   ]
  },
  {
   "cell_type": "code",
   "execution_count": 65,
   "id": "b7255731-3461-435d-b597-eaf9c7910490",
   "metadata": {
    "tags": []
   },
   "outputs": [],
   "source": [
    "from trustyai.model import Model\n",
    "\n",
    "model = Model(pred, output_names=[\"output-8\"])"
   ]
  },
  {
   "cell_type": "code",
   "execution_count": 66,
   "id": "d6a41d78-8b38-4890-93c0-f3c781d6afb9",
   "metadata": {
    "tags": []
   },
   "outputs": [],
   "source": [
    "from trustyai.model.domain import feature_domain\n",
    "# domains = []\n",
    "# for v in feature_df_2:\n",
    "#     print(v)\n",
    "#     if type(v) is bool:\n",
    "#         domains.append(feature_domain([True, False]))\n",
    "#     else:\n",
    "#         domains.append(feature_domain((0.0, 10.0)))\n",
    "\n",
    "\n",
    "_domains = {\n",
    "        \"is_explicit\": (0.0, 1.0),\n",
    "        \"duration_ms\": (0.0, 1.0),\n",
    "        \"danceability\": (0.0, 1.0),\n",
    "        \"energy\": (0.0, 1.0),\n",
    "        \"key\": (0.0, 1.0),\n",
    "        \"loudness\": (0.0, 1.0),\n",
    "        \"mode\": (0.0, 1.0),\n",
    "        \"speechiness\": (0.0, 1.0),\n",
    "        \"acousticness\": (0.0, 1.0),\n",
    "        \"instrumentalness\": (0.0, 1.0),\n",
    "        \"liveness\": (0.0, 1.0),\n",
    "        \"valence\": (0.0, 1.0),\n",
    "        \"tempo\": (0.0, 1.0)\n",
    "}\n",
    "domains = {key: None for key  in feature_values.keys()}\n",
    "\n",
    "for key in  _domains.keys():\n",
    "        domains[key] = feature_domain(_domains[key])\n",
    "\n",
    "domains = list(domains.values())"
   ]
  },
  {
   "cell_type": "code",
   "execution_count": 67,
   "id": "cb599661-5233-423a-9eac-81c924de318e",
   "metadata": {
    "tags": []
   },
   "outputs": [],
   "source": [
    "from trustyai.model import output\n",
    "# goal = []\n",
    "# for output_name in output_names:\n",
    "#     goal.append(output(name=output_name, dtype=\"float\", value=0.1))\n",
    "goal = [output(name=PRED_COUNTRY, dtype=\"bool\", value=True)]"
   ]
  },
  {
   "cell_type": "code",
   "execution_count": 68,
   "id": "0bd7f057-ed8c-43f7-a3c3-430c7ab0f925",
   "metadata": {
    "tags": []
   },
   "outputs": [
    {
     "name": "stdout",
     "output_type": "stream",
     "text": [
      "1/1 [==============================] - 0s 23ms/step\n",
      "0.0036883364\n"
     ]
    },
    {
     "data": {
      "text/plain": [
       "0    False\n",
       "Name: output-8, dtype: bool"
      ]
     },
     "execution_count": 68,
     "metadata": {},
     "output_type": "execute_result"
    }
   ],
   "source": [
    "pred(feature_df_2)[PRED_COUNTRY]"
   ]
  },
  {
   "cell_type": "code",
   "execution_count": 69,
   "id": "2fcabf73-097a-49e1-9f2b-e730a55eccc7",
   "metadata": {
    "tags": []
   },
   "outputs": [
    {
     "name": "stdout",
     "output_type": "stream",
     "text": [
      "1/1 [==============================] - 0s 25ms/step\n",
      "0.0036883364\n",
      "1/1 [==============================] - 0s 23ms/step\n",
      "0.0036883364\n",
      "1/1 [==============================] - 0s 24ms/step\n",
      "0.002417213\n",
      "1/1 [==============================] - 0s 23ms/step\n",
      "0.026813423\n",
      "1/1 [==============================] - 0s 23ms/step\n",
      "0.018899089\n",
      "1/1 [==============================] - 0s 24ms/step\n",
      "0.00014057646\n",
      "1/1 [==============================] - 0s 24ms/step\n",
      "6.0937117e-07\n",
      "1/1 [==============================] - 0s 24ms/step\n",
      "0.0066301967\n",
      "1/1 [==============================] - 0s 24ms/step\n",
      "0.026572675\n",
      "1/1 [==============================] - 0s 23ms/step\n",
      "0.00055242283\n",
      "1/1 [==============================] - 0s 24ms/step\n",
      "0.0010782102\n",
      "1/1 [==============================] - 0s 24ms/step\n",
      "0.002910934\n",
      "1/1 [==============================] - 0s 23ms/step\n",
      "3.8382757e-05\n",
      "1/1 [==============================] - 0s 24ms/step\n",
      "1.5554662e-05\n",
      "1/1 [==============================] - 0s 24ms/step\n",
      "3.780152e-07\n",
      "1/1 [==============================] - 0s 23ms/step\n",
      "0.003652594\n",
      "1/1 [==============================] - 0s 23ms/step\n",
      "8.516853e-06\n",
      "1/1 [==============================] - 0s 23ms/step\n",
      "0.0041716923\n",
      "1/1 [==============================] - 0s 23ms/step\n",
      "0.013803722\n",
      "1/1 [==============================] - 0s 23ms/step\n",
      "1.0508667e-05\n",
      "1/1 [==============================] - 0s 23ms/step\n",
      "8.9092064e-05\n",
      "1/1 [==============================] - 0s 23ms/step\n",
      "0.0063740867\n",
      "1/1 [==============================] - 0s 24ms/step\n",
      "2.7172268e-06\n",
      "1/1 [==============================] - 0s 23ms/step\n",
      "0.39725867\n",
      "1/1 [==============================] - 0s 23ms/step\n",
      "0.010968295\n",
      "1/1 [==============================] - 0s 24ms/step\n",
      "0.00014947238\n",
      "1/1 [==============================] - 0s 23ms/step\n",
      "0.00044109396\n",
      "1/1 [==============================] - 0s 23ms/step\n",
      "0.0035766352\n",
      "1/1 [==============================] - 0s 23ms/step\n",
      "0.0018046716\n",
      "1/1 [==============================] - 0s 23ms/step\n",
      "0.00072733546\n",
      "1/1 [==============================] - 0s 23ms/step\n",
      "0.00444838\n",
      "1/1 [==============================] - 0s 24ms/step\n",
      "0.014515246\n",
      "1/1 [==============================] - 0s 24ms/step\n",
      "0.00013990822\n",
      "1/1 [==============================] - 0s 23ms/step\n",
      "0.8630842\n",
      "1/1 [==============================] - 0s 23ms/step\n",
      "0.004851288\n",
      "1/1 [==============================] - 0s 23ms/step\n",
      "0.00684462\n",
      "1/1 [==============================] - 0s 23ms/step\n",
      "0.1827321\n",
      "1/1 [==============================] - 0s 24ms/step\n",
      "0.0023276738\n",
      "1/1 [==============================] - 0s 23ms/step\n",
      "0.020699717\n",
      "1/1 [==============================] - 0s 24ms/step\n",
      "0.010278678\n",
      "1/1 [==============================] - 0s 24ms/step\n",
      "0.017410642\n",
      "1/1 [==============================] - 0s 23ms/step\n",
      "7.3864254e-07\n",
      "1/1 [==============================] - 0s 25ms/step\n",
      "0.0023276738\n",
      "1/1 [==============================] - 0s 23ms/step\n",
      "0.0037461556\n",
      "1/1 [==============================] - 0s 24ms/step\n",
      "0.0017274265\n",
      "1/1 [==============================] - 0s 23ms/step\n",
      "0.0015903194\n",
      "1/1 [==============================] - 0s 23ms/step\n",
      "0.0077055\n",
      "1/1 [==============================] - 0s 24ms/step\n",
      "0.0012459151\n",
      "1/1 [==============================] - 0s 24ms/step\n",
      "8.747138e-05\n",
      "1/1 [==============================] - 0s 24ms/step\n",
      "1.5623273e-05\n",
      "1/1 [==============================] - 0s 25ms/step\n",
      "0.39725867\n"
     ]
    }
   ],
   "source": [
    "from trustyai.explainers import CounterfactualExplainer\n",
    "\n",
    "explainer = CounterfactualExplainer(steps=50)\n",
    "explanation = explainer.explain(inputs=feature_df_2, goal=goal, model=model, feature_domains=domains)"
   ]
  },
  {
   "cell_type": "code",
   "execution_count": 70,
   "id": "4dd64eb1-edfe-4fae-9e46-90528844187d",
   "metadata": {
    "tags": []
   },
   "outputs": [
    {
     "name": "stdout",
     "output_type": "stream",
     "text": [
      "1/1 [==============================] - 0s 24ms/step\n",
      "0.39725867\n"
     ]
    },
    {
     "data": {
      "text/html": [
       "<div>\n",
       "<style scoped>\n",
       "    .dataframe tbody tr th:only-of-type {\n",
       "        vertical-align: middle;\n",
       "    }\n",
       "\n",
       "    .dataframe tbody tr th {\n",
       "        vertical-align: top;\n",
       "    }\n",
       "\n",
       "    .dataframe thead th {\n",
       "        text-align: right;\n",
       "    }\n",
       "</style>\n",
       "<table border=\"1\" class=\"dataframe\">\n",
       "  <thead>\n",
       "    <tr style=\"text-align: right;\">\n",
       "      <th></th>\n",
       "      <th>output-8</th>\n",
       "    </tr>\n",
       "  </thead>\n",
       "  <tbody>\n",
       "    <tr>\n",
       "      <th>0</th>\n",
       "      <td>True</td>\n",
       "    </tr>\n",
       "  </tbody>\n",
       "</table>\n",
       "</div>"
      ],
      "text/plain": [
       "   output-8\n",
       "0      True"
      ]
     },
     "execution_count": 70,
     "metadata": {},
     "output_type": "execute_result"
    }
   ],
   "source": [
    "model(explanation.proposed_features_dataframe)"
   ]
  },
  {
   "cell_type": "code",
   "execution_count": 71,
   "id": "ba70f117-41f2-4c15-aa00-6913360fe9dc",
   "metadata": {
    "tags": []
   },
   "outputs": [
    {
     "data": {
      "text/html": [
       "<div>\n",
       "<style scoped>\n",
       "    .dataframe tbody tr th:only-of-type {\n",
       "        vertical-align: middle;\n",
       "    }\n",
       "\n",
       "    .dataframe tbody tr th {\n",
       "        vertical-align: top;\n",
       "    }\n",
       "\n",
       "    .dataframe thead th {\n",
       "        text-align: right;\n",
       "    }\n",
       "</style>\n",
       "<table border=\"1\" class=\"dataframe\">\n",
       "  <thead>\n",
       "    <tr style=\"text-align: right;\">\n",
       "      <th></th>\n",
       "      <th>features</th>\n",
       "      <th>proposed</th>\n",
       "      <th>original</th>\n",
       "      <th>constrained</th>\n",
       "      <th>difference</th>\n",
       "    </tr>\n",
       "  </thead>\n",
       "  <tbody>\n",
       "    <tr>\n",
       "      <th>0</th>\n",
       "      <td>is_explicit</td>\n",
       "      <td>1.000000</td>\n",
       "      <td>1.000000</td>\n",
       "      <td>False</td>\n",
       "      <td>0.000000</td>\n",
       "    </tr>\n",
       "    <tr>\n",
       "      <th>1</th>\n",
       "      <td>duration_ms</td>\n",
       "      <td>0.908907</td>\n",
       "      <td>0.279280</td>\n",
       "      <td>False</td>\n",
       "      <td>0.629627</td>\n",
       "    </tr>\n",
       "    <tr>\n",
       "      <th>2</th>\n",
       "      <td>danceability</td>\n",
       "      <td>0.279280</td>\n",
       "      <td>0.908907</td>\n",
       "      <td>False</td>\n",
       "      <td>-0.629627</td>\n",
       "    </tr>\n",
       "    <tr>\n",
       "      <th>3</th>\n",
       "      <td>energy</td>\n",
       "      <td>0.472935</td>\n",
       "      <td>0.472935</td>\n",
       "      <td>False</td>\n",
       "      <td>0.000000</td>\n",
       "    </tr>\n",
       "    <tr>\n",
       "      <th>4</th>\n",
       "      <td>key</td>\n",
       "      <td>0.090909</td>\n",
       "      <td>0.090909</td>\n",
       "      <td>False</td>\n",
       "      <td>0.000000</td>\n",
       "    </tr>\n",
       "    <tr>\n",
       "      <th>5</th>\n",
       "      <td>loudness</td>\n",
       "      <td>0.747726</td>\n",
       "      <td>0.747726</td>\n",
       "      <td>False</td>\n",
       "      <td>0.000000</td>\n",
       "    </tr>\n",
       "    <tr>\n",
       "      <th>6</th>\n",
       "      <td>mode</td>\n",
       "      <td>1.000000</td>\n",
       "      <td>1.000000</td>\n",
       "      <td>False</td>\n",
       "      <td>0.000000</td>\n",
       "    </tr>\n",
       "    <tr>\n",
       "      <th>7</th>\n",
       "      <td>speechiness</td>\n",
       "      <td>0.084256</td>\n",
       "      <td>0.084256</td>\n",
       "      <td>False</td>\n",
       "      <td>0.000000</td>\n",
       "    </tr>\n",
       "    <tr>\n",
       "      <th>8</th>\n",
       "      <td>acousticness</td>\n",
       "      <td>0.010735</td>\n",
       "      <td>0.010735</td>\n",
       "      <td>False</td>\n",
       "      <td>0.000000</td>\n",
       "    </tr>\n",
       "    <tr>\n",
       "      <th>9</th>\n",
       "      <td>instrumentalness</td>\n",
       "      <td>0.000000</td>\n",
       "      <td>0.000000</td>\n",
       "      <td>False</td>\n",
       "      <td>0.000000</td>\n",
       "    </tr>\n",
       "    <tr>\n",
       "      <th>10</th>\n",
       "      <td>liveness</td>\n",
       "      <td>0.131833</td>\n",
       "      <td>0.131833</td>\n",
       "      <td>False</td>\n",
       "      <td>0.000000</td>\n",
       "    </tr>\n",
       "    <tr>\n",
       "      <th>11</th>\n",
       "      <td>valence</td>\n",
       "      <td>0.215726</td>\n",
       "      <td>0.215726</td>\n",
       "      <td>False</td>\n",
       "      <td>0.000000</td>\n",
       "    </tr>\n",
       "    <tr>\n",
       "      <th>12</th>\n",
       "      <td>tempo</td>\n",
       "      <td>0.428393</td>\n",
       "      <td>0.428393</td>\n",
       "      <td>False</td>\n",
       "      <td>0.000000</td>\n",
       "    </tr>\n",
       "  </tbody>\n",
       "</table>\n",
       "</div>"
      ],
      "text/plain": [
       "            features  proposed  original  constrained  difference\n",
       "0        is_explicit  1.000000  1.000000        False    0.000000\n",
       "1        duration_ms  0.908907  0.279280        False    0.629627\n",
       "2       danceability  0.279280  0.908907        False   -0.629627\n",
       "3             energy  0.472935  0.472935        False    0.000000\n",
       "4                key  0.090909  0.090909        False    0.000000\n",
       "5           loudness  0.747726  0.747726        False    0.000000\n",
       "6               mode  1.000000  1.000000        False    0.000000\n",
       "7        speechiness  0.084256  0.084256        False    0.000000\n",
       "8       acousticness  0.010735  0.010735        False    0.000000\n",
       "9   instrumentalness  0.000000  0.000000        False    0.000000\n",
       "10          liveness  0.131833  0.131833        False    0.000000\n",
       "11           valence  0.215726  0.215726        False    0.000000\n",
       "12             tempo  0.428393  0.428393        False    0.000000"
      ]
     },
     "execution_count": 71,
     "metadata": {},
     "output_type": "execute_result"
    }
   ],
   "source": [
    "explanation.as_dataframe()"
   ]
  },
  {
   "cell_type": "code",
   "execution_count": 72,
   "id": "de097e7c-720f-4d02-9671-c0a0023c7c77",
   "metadata": {
    "tags": []
   },
   "outputs": [
    {
     "data": {
      "text/html": [
       "<div>\n",
       "<style scoped>\n",
       "    .dataframe tbody tr th:only-of-type {\n",
       "        vertical-align: middle;\n",
       "    }\n",
       "\n",
       "    .dataframe tbody tr th {\n",
       "        vertical-align: top;\n",
       "    }\n",
       "\n",
       "    .dataframe thead th {\n",
       "        text-align: right;\n",
       "    }\n",
       "</style>\n",
       "<table border=\"1\" class=\"dataframe\">\n",
       "  <thead>\n",
       "    <tr style=\"text-align: right;\">\n",
       "      <th></th>\n",
       "      <th>features</th>\n",
       "      <th>proposed</th>\n",
       "      <th>original</th>\n",
       "      <th>constrained</th>\n",
       "      <th>difference</th>\n",
       "    </tr>\n",
       "  </thead>\n",
       "  <tbody>\n",
       "    <tr>\n",
       "      <th>1</th>\n",
       "      <td>duration_ms</td>\n",
       "      <td>0.908907</td>\n",
       "      <td>0.279280</td>\n",
       "      <td>False</td>\n",
       "      <td>0.629627</td>\n",
       "    </tr>\n",
       "    <tr>\n",
       "      <th>2</th>\n",
       "      <td>danceability</td>\n",
       "      <td>0.279280</td>\n",
       "      <td>0.908907</td>\n",
       "      <td>False</td>\n",
       "      <td>-0.629627</td>\n",
       "    </tr>\n",
       "  </tbody>\n",
       "</table>\n",
       "</div>"
      ],
      "text/plain": [
       "       features  proposed  original  constrained  difference\n",
       "1   duration_ms  0.908907  0.279280        False    0.629627\n",
       "2  danceability  0.279280  0.908907        False   -0.629627"
      ]
     },
     "execution_count": 72,
     "metadata": {},
     "output_type": "execute_result"
    }
   ],
   "source": [
    "df = explanation.as_dataframe()\n",
    "df[df.difference != 0.0]"
   ]
  },
  {
   "cell_type": "code",
   "execution_count": 73,
   "id": "ac1c0429-4ecd-484c-a2aa-85bf2a5be9b1",
   "metadata": {
    "tags": []
   },
   "outputs": [
    {
     "data": {
      "image/png": "[encoded data removed]",
      "text/plain": [
       "<Figure size 1600x900 with 1 Axes>"
      ]
     },
     "metadata": {},
     "output_type": "display_data"
    }
   ],
   "source": [
    "explanation.plot()"
   ]
  },
  {
   "cell_type": "code",
   "execution_count": null,
   "id": "ba50ca42-cb6a-43a9-a5a5-93042ee2c256",
   "metadata": {},
   "outputs": [],
   "source": []
  }
 ],
 "metadata": {
  "kernelspec": {
   "display_name": "Python 3.9",
   "language": "python",
   "name": "python3"
  },
  "language_info": {
   "codemirror_mode": {
    "name": "ipython",
    "version": 3
   },
   "file_extension": ".py",
   "mimetype": "text/x-python",
   "name": "python",
   "nbconvert_exporter": "python",
   "pygments_lexer": "ipython3",
   "version": "3.9.16"
  }
 },
 "nbformat": 4,
 "nbformat_minor": 5
}
