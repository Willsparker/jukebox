{
 "cells": [
  {
   "cell_type": "code",
   "execution_count": null,
   "id": "3045f850-61b1-4b91-9ccc-33a9dd297040",
   "metadata": {
    "tags": []
   },
   "outputs": [],
   "source": [
    "!pip -q install keras \"tensorflow==2.15.1\" \"onnx\" \"seaborn\" \"onnxruntime\""
   ]
  },
  {
   "cell_type": "code",
   "execution_count": null,
   "id": "c3ae84ab-cd63-4e14-b8b6-177076ccec25",
   "metadata": {
    "tags": []
   },
   "outputs": [],
   "source": [
    "import keras\n",
    "import pickle\n",
    "import pandas as pd\n",
    "import numpy as np"
   ]
  },
  {
   "cell_type": "code",
   "execution_count": null,
   "id": "260c648d-30d2-488f-bf62-6e680d50fbaa",
   "metadata": {
    "tags": []
   },
   "outputs": [],
   "source": [
    "PRED_COUNTRY = \"output-8\""
   ]
  },
  {
   "cell_type": "code",
   "execution_count": null,
   "id": "54bc87a7-7fd4-4251-b4f4-616500a6cbe7",
   "metadata": {
    "tags": []
   },
   "outputs": [],
   "source": [
    "keras_model = keras.saving.load_model(\"trained_model.keras\")\n",
    "\n",
    "with open('scaler.pkl', 'rb') as handle:\n",
    "    scaler = pickle.load(handle)"
   ]
  },
  {
   "cell_type": "code",
   "execution_count": null,
   "id": "70c53763-77c3-4060-9583-b375e0e3fbcd",
   "metadata": {
    "tags": []
   },
   "outputs": [],
   "source": [
    "# We pick the properties of our favorite song\n",
    "song_properties = pd.read_parquet('../99-data_prep/song_properties.parquet')\n",
    "favorite_song = song_properties.loc[song_properties[\"name\"]==\"Not Like Us\"]\n",
    "favorite_song"
   ]
  },
  {
   "cell_type": "code",
   "execution_count": null,
   "id": "bb28dd31-4486-45ad-b8aa-a6702aac236e",
   "metadata": {
    "tags": []
   },
   "outputs": [],
   "source": [
    "song_properties = favorite_song[['is_explicit', 'duration_ms', 'danceability', 'energy', 'key', 'loudness', 'mode', 'speechiness', 'acousticness', 'instrumentalness', 'liveness', 'valence', 'tempo']]\n",
    "song_properties.T"
   ]
  },
  {
   "cell_type": "code",
   "execution_count": null,
   "id": "6e6cd27c-04d6-4217-8fa1-d23885bb4890",
   "metadata": {
    "tags": []
   },
   "outputs": [],
   "source": [
    "scaled_feature = scaler.transform(song_properties)[0]\n",
    "scaled_feature"
   ]
  },
  {
   "cell_type": "code",
   "execution_count": null,
   "id": "4c5ed928-58f6-43ee-8fb9-b09e9e4ac897",
   "metadata": {
    "tags": []
   },
   "outputs": [],
   "source": [
    "feature_values = {\n",
    "    \"is_explicit\": scaled_feature[0],\n",
    "    \"duration_ms\": scaled_feature[1],\n",
    "    \"danceability\": scaled_feature[2],\n",
    "    \"energy\": scaled_feature[3],\n",
    "    \"key\": scaled_feature[4],\n",
    "    \"loudness\": scaled_feature[5],\n",
    "    \"mode\": scaled_feature[6],\n",
    "    \"speechiness\": scaled_feature[7],\n",
    "    \"acousticness\": scaled_feature[8],\n",
    "    \"instrumentalness\": scaled_feature[9],\n",
    "    \"liveness\": scaled_feature[10],\n",
    "    \"valence\": scaled_feature[11],\n",
    "    \"tempo\": scaled_feature[12]\n",
    "}\n",
    "\n",
    "feature_df = pd.DataFrame([feature_values])\n",
    "feature_df.T"
   ]
  },
  {
   "cell_type": "code",
   "execution_count": null,
   "id": "2003c45e-eefe-42a2-a65e-4b4126cd07ee",
   "metadata": {
    "tags": []
   },
   "outputs": [],
   "source": [
    "output_names = []\n",
    "for i in range(72):\n",
    "    output_names.append(f\"output-{i}\")"
   ]
  },
  {
   "cell_type": "code",
   "execution_count": null,
   "id": "c5bc8322-9800-477d-a080-9d66ffb05def",
   "metadata": {
    "tags": []
   },
   "outputs": [],
   "source": [
    "print(f\"Predicted probability for our selected country is {keras_model.predict(feature_df)[0][output_names.index(PRED_COUNTRY)]}\")"
   ]
  },
  {
   "cell_type": "code",
   "execution_count": null,
   "id": "39041f8e-fce1-496b-9b75-c3aff9c1ae69",
   "metadata": {
    "tags": []
   },
   "outputs": [],
   "source": [
    "def pred(x):\n",
    "    pred = keras_model.predict(x)\n",
    "    pred = np.squeeze(pred)\n",
    "    pred = {output_names[i]: pred[i] for i in range(pred.shape[0])}\n",
    "    print(f\"Predicted probability is: {pred[PRED_COUNTRY]}\")\n",
    "    if pred[PRED_COUNTRY] >= 0.3:\n",
    "        pred = {PRED_COUNTRY: True}\n",
    "    else:\n",
    "        pred = {PRED_COUNTRY: False}\n",
    "    return pd.DataFrame([pred])"
   ]
  },
  {
   "cell_type": "code",
   "execution_count": null,
   "id": "b7255731-3461-435d-b597-eaf9c7910490",
   "metadata": {
    "tags": []
   },
   "outputs": [],
   "source": [
    "from trustyai.model import Model\n",
    "\n",
    "model = Model(pred, output_names=[PRED_COUNTRY])"
   ]
  },
  {
   "cell_type": "code",
   "execution_count": null,
   "id": "d6a41d78-8b38-4890-93c0-f3c781d6afb9",
   "metadata": {
    "tags": []
   },
   "outputs": [],
   "source": [
    "from trustyai.model.domain import feature_domain\n",
    "_domains = {\n",
    "        \"is_explicit\": (0.0, 1.0),\n",
    "        \"duration_ms\": (0.0, 1.0),\n",
    "        \"danceability\": (0.0, 1.0),\n",
    "        \"energy\": (0.0, 1.0),\n",
    "        \"key\": (0.0, 1.0),\n",
    "        \"loudness\": (0.0, 1.0),\n",
    "        \"mode\": (0.0, 1.0),\n",
    "        \"speechiness\": (0.0, 1.0),\n",
    "        \"acousticness\": (0.0, 1.0),\n",
    "        \"instrumentalness\": (0.0, 1.0),\n",
    "        \"liveness\": (0.0, 1.0),\n",
    "        \"valence\": (0.0, 1.0),\n",
    "        \"tempo\": (0.0, 1.0)\n",
    "}\n",
    "domains = {key: None for key  in feature_values.keys()}\n",
    "\n",
    "for key in  _domains.keys():\n",
    "        domains[key] = feature_domain(_domains[key])\n",
    "\n",
    "domains = list(domains.values())"
   ]
  },
  {
   "cell_type": "code",
   "execution_count": null,
   "id": "cb599661-5233-423a-9eac-81c924de318e",
   "metadata": {
    "tags": []
   },
   "outputs": [],
   "source": [
    "from trustyai.model import output\n",
    "goal = [output(name=PRED_COUNTRY, dtype=\"bool\", value=True)]"
   ]
  },
  {
   "cell_type": "code",
   "execution_count": null,
   "id": "2fcabf73-097a-49e1-9f2b-e730a55eccc7",
   "metadata": {
    "tags": []
   },
   "outputs": [],
   "source": [
    "from trustyai.explainers import CounterfactualExplainer\n",
    "\n",
    "explainer = CounterfactualExplainer(steps=50)\n",
    "explanation = explainer.explain(inputs=feature_df, goal=goal, model=model, feature_domains=domains)"
   ]
  },
  {
   "cell_type": "code",
   "execution_count": null,
   "id": "4dd64eb1-edfe-4fae-9e46-90528844187d",
   "metadata": {
    "tags": []
   },
   "outputs": [],
   "source": [
    "model(explanation.proposed_features_dataframe)"
   ]
  },
  {
   "cell_type": "code",
   "execution_count": null,
   "id": "ba70f117-41f2-4c15-aa00-6913360fe9dc",
   "metadata": {
    "tags": []
   },
   "outputs": [],
   "source": [
    "explanation.as_dataframe()"
   ]
  },
  {
   "cell_type": "code",
   "execution_count": null,
   "id": "de097e7c-720f-4d02-9671-c0a0023c7c77",
   "metadata": {
    "tags": []
   },
   "outputs": [],
   "source": [
    "df = explanation.as_dataframe()\n",
    "df[df.difference != 0.0]"
   ]
  },
  {
   "cell_type": "code",
   "execution_count": null,
   "id": "ac1c0429-4ecd-484c-a2aa-85bf2a5be9b1",
   "metadata": {
    "tags": []
   },
   "outputs": [],
   "source": [
    "explanation.plot()"
   ]
  }
 ],
 "metadata": {
  "kernelspec": {
   "display_name": "Python 3.9",
   "language": "python",
   "name": "python3"
  },
  "language_info": {
   "codemirror_mode": {
    "name": "ipython",
    "version": 3
   },
   "file_extension": ".py",
   "mimetype": "text/x-python",
   "name": "python",
   "nbconvert_exporter": "python",
   "pygments_lexer": "ipython3",
   "version": "3.9.16"
  }
 },
 "nbformat": 4,
 "nbformat_minor": 5
}
