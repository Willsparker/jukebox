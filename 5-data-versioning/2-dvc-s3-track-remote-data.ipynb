{
 "cells": [
  {
   "cell_type": "markdown",
   "id": "d32d55fe",
   "metadata": {},
   "source": [
    "## 💿 Data Versioning with DVC\n",
    "\n",
    "When working with machine learning, keeping track of data versions is critical for reproducibility and consistency. Data often evolves over time, and understanding which dataset version was used for training or evaluation is key to debugging and comparing results. \n",
    "\n",
    "In this notebook, we will explore using DVC (Data Version Control) to manage data versioning effectively."
   ]
  },
  {
   "cell_type": "markdown",
   "id": "73ab7aec",
   "metadata": {},
   "source": [
    "### Quiz Time 🤓"
   ]
  },
  {
   "cell_type": "code",
   "execution_count": null,
   "id": "94a16603",
   "metadata": {},
   "outputs": [],
   "source": [
    "import sys\n",
    "import os\n",
    "sys.path.append(os.path.abspath('../.dontlookhere/'))\n",
    "from quiz5 import *"
   ]
  },
  {
   "cell_type": "code",
   "execution_count": null,
   "id": "89bb236e",
   "metadata": {},
   "outputs": [],
   "source": [
    "quiz_data()"
   ]
  },
  {
   "cell_type": "code",
   "execution_count": null,
   "id": "abd0f253",
   "metadata": {},
   "outputs": [],
   "source": [
    "quiz_versioning()"
   ]
  },
  {
   "cell_type": "markdown",
   "id": "b5c16312",
   "metadata": {},
   "source": [
    "## 🐠 Install DVC\n",
    "\n",
    "First of all, we will need to install DVC dependencies to use dvc CLI tooling in our notebook."
   ]
  },
  {
   "cell_type": "code",
   "execution_count": null,
   "id": "ee02e542-29cd-4a41-85d0-565fd4394fe6",
   "metadata": {
    "tags": []
   },
   "outputs": [],
   "source": [
    "# Install dependencies\n",
    "!pip install -q dvc[s3]"
   ]
  },
  {
   "cell_type": "markdown",
   "id": "54792587",
   "metadata": {},
   "source": [
    "## 📽️ Initializing a project\n",
    "\n",
    "The first step will be to initiliaze our DVC project. Let's initialize it by running dvc init inside a Git project:"
   ]
  },
  {
   "cell_type": "code",
   "execution_count": null,
   "id": "0a1b2d40-10f4-4959-815c-68679c926cc6",
   "metadata": {
    "tags": []
   },
   "outputs": [],
   "source": [
    "# Initialize DVC. This will create a cache, config file, and a few other things\n",
    "!cd ..;dvc init"
   ]
  },
  {
   "cell_type": "markdown",
   "id": "f809cb2f",
   "metadata": {},
   "source": [
    "Once initialized in a project, DVC populates 🧙‍♂️ its installation directory (.dvc/) with the [Internal Directories](https://dvc.org/doc/user-guide/project-structure/internal-files)\n",
    " and files needed for DVC operation "
   ]
  },
  {
   "cell_type": "code",
   "execution_count": null,
   "id": "ff1417fe",
   "metadata": {},
   "outputs": [],
   "source": [
    "!ls -lhrta ../.dvc"
   ]
  },
  {
   "cell_type": "markdown",
   "id": "39820d99",
   "metadata": {},
   "source": [
    "## ⚙️ Configuring DVC Remotes\n",
    "\n",
    "You can upload DVC-tracked data to various storage systems, either remote or local, which are collectively referred to as 'remotes.' \n",
    "\n",
    "In our case, we will use S3 for our remotes. We will configure two distinct remotes: \n",
    "\n",
    "* one for storing the actual data (s3://data)\n",
    "* another for storing cached versions of the data (s3://data-cache)"
   ]
  },
  {
   "cell_type": "markdown",
   "id": "19d05aa8",
   "metadata": {},
   "source": [
    "Before pushing data to a remote we need to set it up using the dvc remote add command. As we described, we will add first two distinct remotes, one for storing the data and another for storing cached versions of the data (that will be our remote DVC default):\n",
    "\n"
   ]
  },
  {
   "cell_type": "code",
   "execution_count": null,
   "id": "b0728d78-c8ba-4c07-9b9c-ecef3529cec0",
   "metadata": {
    "tags": []
   },
   "outputs": [],
   "source": [
    "# Add the data versioning repository as a remote storage\n",
    "# This will be our default storage\n",
    "!dvc remote add --default s3-version s3://data-cache\n",
    "!dvc remote modify s3-version endpointurl $AWS_S3_ENDPOINT"
   ]
  },
  {
   "cell_type": "code",
   "execution_count": null,
   "id": "db4ee7cd-fc24-4a38-8ec2-d438730a09c5",
   "metadata": {
    "tags": []
   },
   "outputs": [],
   "source": [
    "# Add the data source as a remote\n",
    "!dvc remote add data-source s3://data\n",
    "!dvc remote modify data-source endpointurl $AWS_S3_ENDPOINT"
   ]
  },
  {
   "cell_type": "markdown",
   "id": "2a067992",
   "metadata": {},
   "source": [
    "The .dvc/config file contains detailed information about the DVC configuration. This file is intended to be tracked by Git. \n",
    "\n",
    "Upon inspection, you'll notice that it defines two distinct remotes, each pointing to a different data store (in this case, S3 buckets)."
   ]
  },
  {
   "cell_type": "code",
   "execution_count": null,
   "id": "7ed741de-e437-4521-8b85-c3c2f9205e21",
   "metadata": {
    "tags": []
   },
   "outputs": [],
   "source": [
    "# Our config now looks like this\n",
    "!cat ../.dvc/config"
   ]
  },
  {
   "cell_type": "markdown",
   "id": "1f323139",
   "metadata": {},
   "source": [
    "* The core is main section with the general config options\n",
    "* The remote `s3-version` refers to the s3 remote for storing the cached versions of the data\n",
    "* The remote `data-source` refers to the s3 remote for storing the data "
   ]
  },
  {
   "cell_type": "markdown",
   "id": "0b309a9f",
   "metadata": {},
   "source": [
    "## 🐾 Tracking Data\n",
    "\n",
    "Now it’s time to track the dataset and push it to the data-cache DVC remote!\n",
    "\n",
    "We will not store the data locally; instead, we will use an S3 remote to store our data. The `dvc import-url` command allows you to create an external data dependency without manually copying files from S3 or installing additional tools for different storage types.\n",
    "\n",
    "By using the `--to-remote` option, you can create an import .dvc file while transferring the file or directory directly to the remote storage, ensuring efficient and streamlined data management."
   ]
  },
  {
   "cell_type": "code",
   "execution_count": null,
   "id": "6dbd82e7-e19f-4950-89e4-c207e0714c03",
   "metadata": {
    "tags": []
   },
   "outputs": [],
   "source": [
    "# Track the dataset and push it to the data caching repo\n",
    "!dvc import-url remote://data-source/song_properties.parquet --to-remote"
   ]
  },
  {
   "cell_type": "markdown",
   "id": "f5081f23",
   "metadata": {},
   "source": [
    "You can check the contents of the `data-cache` bucket in MinIO to see what has been stored.\n",
    "\n",
    "After running the data-tracking process, a new file named `song_properties.parquet.dvc` is created. This file contains the DVC hash, which identifies the specific version of the data that was just added. \n",
    "\n",
    "To understand the structure of the `.dvc` file, run the next cell to inspect its contents. "
   ]
  },
  {
   "cell_type": "code",
   "execution_count": null,
   "id": "99f01bdf",
   "metadata": {},
   "outputs": [],
   "source": [
    "!cat song_properties.parquet.dvc"
   ]
  },
  {
   "cell_type": "markdown",
   "id": "1532a797",
   "metadata": {},
   "source": [
    "Additionally, you can verify that the version recorded in your `.dvc` file matches the data stored in the `data-cache` bucket in MinIO.  \n",
    "Navigate to your MinIO bucket (`data-cache`) and cross-check the hash to confirm consistency."
   ]
  },
  {
   "cell_type": "markdown",
   "id": "254f51f4",
   "metadata": {},
   "source": [
    "## 📁 Managing DVC Files and Ignoring Unnecessary Data\n",
    "\n",
    "To maintain a clear relationship between the version of the data and the version of the code, all DVC-related files will be checked into Git. This ensures reproducibility and consistency across your project."
   ]
  },
  {
   "cell_type": "code",
   "execution_count": null,
   "id": "e0292fd2-5208-4810-9b8a-ef7f3322f3e8",
   "metadata": {
    "tags": []
   },
   "outputs": [],
   "source": [
    "!git config --global user.email \"you@example.com\"\n",
    "!git config --global user.name \"Your Name\"\n",
    "\n",
    "!git add song_properties.parquet.dvc .gitignore\n",
    "!git commit -m \"Initial data tracked\""
   ]
  },
  {
   "cell_type": "markdown",
   "id": "25845371",
   "metadata": {},
   "source": [
    "In some cases, you might want DVC to ignore certain files while working on your project. For example:\n",
    "\n",
    "- Working in a workspace directory with a large number of data files might result in extended execution times for operations like `dvc status`.\n",
    "- Some files or folders may be irrelevant to the project.\n",
    "\n",
    "To handle these scenarios, DVC supports the use of `.dvcignore` files, which work similarly to `.gitignore` in Git. "
   ]
  }
 ],
 "metadata": {
  "kernelspec": {
   "display_name": "Python 3",
   "language": "python",
   "name": "python3"
  },
  "language_info": {
   "codemirror_mode": {
    "name": "ipython",
    "version": 3
   },
   "file_extension": ".py",
   "mimetype": "text/x-python",
   "name": "python",
   "nbconvert_exporter": "python",
   "pygments_lexer": "ipython3",
   "version": "3.9.6"
  }
 },
 "nbformat": 4,
 "nbformat_minor": 5
}
