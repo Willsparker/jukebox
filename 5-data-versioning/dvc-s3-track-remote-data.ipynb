{
 "cells": [
  {
   "cell_type": "code",
   "execution_count": null,
   "id": "ee02e542-29cd-4a41-85d0-565fd4394fe6",
   "metadata": {
    "tags": []
   },
   "outputs": [],
   "source": [
    "# Install dependencies\n",
    "!pip install -q dvc[s3]"
   ]
  },
  {
   "cell_type": "code",
   "execution_count": null,
   "id": "11225f05-8fc8-4d57-9489-1b2473a5d892",
   "metadata": {
    "tags": []
   },
   "outputs": [],
   "source": [
    "# Initialize git if haven't\n",
    "!git init"
   ]
  },
  {
   "cell_type": "code",
   "execution_count": null,
   "id": "0a1b2d40-10f4-4959-815c-68679c926cc6",
   "metadata": {
    "tags": []
   },
   "outputs": [],
   "source": [
    "# Initialize DVC. This will create a cache, config file, and a few other things\n",
    "!dvc init"
   ]
  },
  {
   "cell_type": "code",
   "execution_count": null,
   "id": "b0728d78-c8ba-4c07-9b9c-ecef3529cec0",
   "metadata": {
    "tags": []
   },
   "outputs": [],
   "source": [
    "# Add the data versioning repository as a remote storage\n",
    "# This will be our default storage\n",
    "!dvc remote add --default s3-version s3://data-versioning\n",
    "!dvc remote modify s3-version endpointurl $AWS_S3_ENDPOINT"
   ]
  },
  {
   "cell_type": "code",
   "execution_count": null,
   "id": "db4ee7cd-fc24-4a38-8ec2-d438730a09c5",
   "metadata": {
    "tags": []
   },
   "outputs": [],
   "source": [
    "# Add the data source as a remote\n",
    "!dvc remote add data-source s3://data\n",
    "!dvc remote modify data-source endpointurl $AWS_S3_ENDPOINT"
   ]
  },
  {
   "cell_type": "code",
   "execution_count": null,
   "id": "7ed741de-e437-4521-8b85-c3c2f9205e21",
   "metadata": {
    "tags": []
   },
   "outputs": [],
   "source": [
    "# Our config now looks like this\n",
    "!cat .dvc/config"
   ]
  },
  {
   "cell_type": "code",
   "execution_count": null,
   "id": "6dbd82e7-e19f-4950-89e4-c207e0714c03",
   "metadata": {
    "tags": []
   },
   "outputs": [],
   "source": [
    "# Track the dataset and push it to the data versioning repo\n",
    "!dvc import-url remote://data-source/song_properties.parquet --to-remote"
   ]
  },
  {
   "cell_type": "code",
   "execution_count": null,
   "id": "e0292fd2-5208-4810-9b8a-ef7f3322f3e8",
   "metadata": {
    "tags": []
   },
   "outputs": [],
   "source": [
    "!git add song_properties.parquet.dvc .gitignore\n",
    "!git commit -m \"Initial data tracked\""
   ]
  }
 ],
 "metadata": {
  "kernelspec": {
   "display_name": "Python 3.9",
   "language": "python",
   "name": "python3"
  },
  "language_info": {
   "codemirror_mode": {
    "name": "ipython",
    "version": 3
   },
   "file_extension": ".py",
   "mimetype": "text/x-python",
   "name": "python",
   "nbconvert_exporter": "python",
   "pygments_lexer": "ipython3",
   "version": "3.9.16"
  }
 },
 "nbformat": 4,
 "nbformat_minor": 5
}
