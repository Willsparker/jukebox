{
 "cells": [
  {
   "cell_type": "code",
   "execution_count": 1,
   "id": "04bbd491-1f28-4e10-994e-80c51a75e452",
   "metadata": {
    "tags": []
   },
   "outputs": [],
   "source": [
    "# Import dependencies\n",
    "import boto3\n",
    "import pyarrow\n",
    "import pyarrow.parquet as pq\n",
    "import pandas as pd\n",
    "import os"
   ]
  },
  {
   "cell_type": "code",
   "execution_count": 2,
   "id": "c5faf5e4-9df1-43f5-ae77-361733874577",
   "metadata": {
    "tags": []
   },
   "outputs": [],
   "source": [
    "# modify the file in S3\n",
    "fs = pyarrow.fs.S3FileSystem(\n",
    "        endpoint_override=os.environ.get('AWS_S3_ENDPOINT'),\n",
    "        access_key=os.environ.get('AWS_ACCESS_KEY_ID'),\n",
    "        secret_key=os.environ.get('AWS_SECRET_ACCESS_KEY')\n",
    "    )\n",
    "\n",
    "with fs.open_input_file('data/song_properties.parquet') as file:\n",
    "    df = pd.read_parquet(file)\n",
    "\n",
    "# Make some change\n",
    "df = pd.concat([df, df], ignore_index=True)\n",
    "\n",
    "pq.write_table(pyarrow.table(df), 'data/song_properties.parquet', filesystem=fs)"
   ]
  },
  {
   "cell_type": "code",
   "execution_count": null,
   "id": "d8a7ac11-62bd-4588-8912-d0d39340de20",
   "metadata": {
    "tags": []
   },
   "outputs": [],
   "source": [
    "# Update our version with the new change\n",
    "!dvc update song_properties.parquet.dvc --to-remote"
   ]
  },
  {
   "cell_type": "code",
   "execution_count": null,
   "id": "a0ca6ebf-008d-4e60-9661-31ae93cd8d52",
   "metadata": {},
   "outputs": [],
   "source": [
    "# Track the change in git\n",
    "!git add song_properties.parquet.dvc\n",
    "!git commit -m \"updated data\""
   ]
  },
  {
   "cell_type": "code",
   "execution_count": null,
   "id": "d90e7f76-b598-42e7-81fe-44c12c4986e9",
   "metadata": {
    "tags": []
   },
   "outputs": [],
   "source": [
    "# Revert to our old dvc file\n",
    "!git checkout HEAD~1 song_properties.parquet.dvc"
   ]
  },
  {
   "cell_type": "code",
   "execution_count": 6,
   "id": "1fff2af1-1a15-4589-a41e-2c23f5e823cd",
   "metadata": {},
   "outputs": [],
   "source": [
    "# Pull down the original file and push it to the data storage"
   ]
  },
  {
   "cell_type": "code",
   "execution_count": null,
   "id": "6345accb-8f68-4816-bbc9-64ee8491ebfb",
   "metadata": {
    "tags": []
   },
   "outputs": [],
   "source": [
    "!dvc pull\n",
    "df = pd.read_parquet('song_properties.parquet', engine='pyarrow')\n",
    "pq.write_table(pyarrow.table(df), 'data/song_properties.parquet', filesystem=fs)"
   ]
  },
  {
   "cell_type": "code",
   "execution_count": null,
   "id": "258ab5eb-5dbe-4fa5-81da-5280f14dce6a",
   "metadata": {
    "tags": []
   },
   "outputs": [],
   "source": [
    "# Update and version dvc again with the reverted data\n",
    "!dvc update song_properties.parquet.dvc --to-remote\n",
    "!git add song_properties.parquet.dvc\n",
    "!git commit -m \"reverted data\""
   ]
  }
 ],
 "metadata": {
  "kernelspec": {
   "display_name": "Python 3.9",
   "language": "python",
   "name": "python3"
  },
  "language_info": {
   "codemirror_mode": {
    "name": "ipython",
    "version": 3
   },
   "file_extension": ".py",
   "mimetype": "text/x-python",
   "name": "python",
   "nbconvert_exporter": "python",
   "pygments_lexer": "ipython3",
   "version": "3.9.16"
  }
 },
 "nbformat": 4,
 "nbformat_minor": 5
}
