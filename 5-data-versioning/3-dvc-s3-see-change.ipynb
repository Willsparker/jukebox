{
 "cells": [
  {
   "cell_type": "markdown",
   "id": "2977dbe5",
   "metadata": {},
   "source": [
    "## ❤️‍🩹 Data Changing and Recovering with DVC\n",
    "\n",
    "In machine learning and data science projects, data is not static, it changes as new insights emerge or corrections are made. These updates, while necessary, can introduce challenges: How do you ensure previous versions are preserved? What if you need to rollback to a previous version to troubleshoot an issue or compare results?\n",
    "\n",
    "This is where **DVC (Data Version Control)** steps in. Imagine having a safety way that allows you to track every change made to your data, document those changes, and recover any previous version easily. Whether you're modifying a file stored in your storage or experimenting with different data preprocessing steps, DVC helps you maintain control and traceability.\n",
    "\n",
    "In this notebook, we will focus on:\n",
    "\n",
    "1. Making changes to a Parquet file stored in S3.\n",
    "2. Using DVC to track and document those changes.\n",
    "3. Recovering previous versions of the data when needed.\n",
    "\n",
    "By the end, you'll see how DVC simplifies the process of managing data changes and ensures that recovering an earlier version is never more than a few commands away."
   ]
  },
  {
   "cell_type": "markdown",
   "id": "38af7e5f",
   "metadata": {},
   "source": [
    "## 🐠 Import Dependencies\n",
    "\n",
    "First of all, we will need to import some dependencies to be able to run our notebook."
   ]
  },
  {
   "cell_type": "code",
   "execution_count": 1,
   "id": "04bbd491-1f28-4e10-994e-80c51a75e452",
   "metadata": {
    "tags": []
   },
   "outputs": [],
   "source": [
    "# Import dependencies\n",
    "import boto3\n",
    "import pyarrow\n",
    "import pyarrow.parquet as pq\n",
    "import pandas as pd\n",
    "import os"
   ]
  },
  {
   "cell_type": "markdown",
   "id": "f9bfbe61",
   "metadata": {},
   "source": [
    "## ✏️ Modifying the Parquet File in S3"
   ]
  },
  {
   "cell_type": "markdown",
   "id": "581d7946",
   "metadata": {},
   "source": [
    "Let’s say you have a Parquet file stored in an S3 bucket. Now, you need to update it with the latest data. How can you do this while keeping track of the changes and ensuring you can restore the original if needed?\n",
    "\n",
    "Here’s the plan:\n",
    "1. Download and open the Parquet file from the S3 bucket.\n",
    "2. Make the changes (like appending new data).\n",
    "3. Save the updated file back to S3, ready for use and properly versioned.\n",
    "\n",
    "These steps will help you update your data while keeping everything organized and easy to track.\n"
   ]
  },
  {
   "cell_type": "code",
   "execution_count": null,
   "id": "c5faf5e4-9df1-43f5-ae77-361733874577",
   "metadata": {
    "tags": []
   },
   "outputs": [],
   "source": [
    "# Download the file\n",
    "fs = pyarrow.fs.S3FileSystem(\n",
    "        endpoint_override=os.environ.get('AWS_S3_ENDPOINT'),\n",
    "        access_key=os.environ.get('AWS_ACCESS_KEY_ID'),\n",
    "        secret_key=os.environ.get('AWS_SECRET_ACCESS_KEY')\n",
    "    )\n",
    "\n",
    "with fs.open_input_file('data/song_properties.parquet') as file:\n",
    "    df = pd.read_parquet(file)\n",
    "\n",
    "# Make some change\n",
    "df = pd.concat([df, df], ignore_index=True)\n",
    "\n",
    "# Upload the file\n",
    "pq.write_table(pyarrow.table(df), 'data/song_properties.parquet', filesystem=fs)"
   ]
  },
  {
   "cell_type": "markdown",
   "id": "0c2f5e8f",
   "metadata": {},
   "source": [
    "## 📦 Creating a New Data Version with DVC\n",
    "\n",
    "After modifying your data, it's essential to track the changes using **DVC (Data Version Control)**. For files or directories imported via `dvc import`, `dvc import-url`, or `dvc import-db`, use `dvc update` to bring them in sync with the latest state of the data source."
   ]
  },
  {
   "cell_type": "code",
   "execution_count": null,
   "id": "d8a7ac11-62bd-4588-8912-d0d39340de20",
   "metadata": {
    "tags": []
   },
   "outputs": [],
   "source": [
    "# Update our version with the new change\n",
    "!dvc update song_properties.parquet.dvc --to-remote"
   ]
  },
  {
   "cell_type": "markdown",
   "id": "8959163d",
   "metadata": {},
   "source": [
    "## 🛠️ Tracking Changes in Git\n",
    "\n",
    "To link the data version to your code, commit the changes in Git."
   ]
  },
  {
   "cell_type": "code",
   "execution_count": null,
   "id": "9b9938ce",
   "metadata": {},
   "outputs": [],
   "source": [
    "!git diff ../.dvc/config"
   ]
  },
  {
   "cell_type": "code",
   "execution_count": null,
   "id": "a0ca6ebf-008d-4e60-9661-31ae93cd8d52",
   "metadata": {},
   "outputs": [],
   "source": [
    "# Track the change in git\n",
    "!git add song_properties.parquet.dvc\n",
    "!git commit -m \"updated data\""
   ]
  },
  {
   "cell_type": "markdown",
   "id": "7dcaf380",
   "metadata": {},
   "source": [
    "## 🔄 Reverting to a Previous Data Version\n",
    "\n"
   ]
  },
  {
   "cell_type": "markdown",
   "id": "4ee60bc7",
   "metadata": {},
   "source": [
    "So now when we want to, we can just check out an old version from git to know what data version was used with that git"
   ]
  },
  {
   "cell_type": "code",
   "execution_count": null,
   "id": "d90e7f76-b598-42e7-81fe-44c12c4986e9",
   "metadata": {
    "tags": []
   },
   "outputs": [],
   "source": [
    "# Revert to our old dvc file\n",
    "!git checkout HEAD~1 song_properties.parquet.dvc"
   ]
  },
  {
   "cell_type": "markdown",
   "id": "678fa850",
   "metadata": {},
   "source": [
    "Pull down the original file and push it to the data storage (we don't have a way to push it directly through DVC)"
   ]
  },
  {
   "cell_type": "code",
   "execution_count": null,
   "id": "6345accb-8f68-4816-bbc9-64ee8491ebfb",
   "metadata": {
    "tags": []
   },
   "outputs": [],
   "source": [
    "!dvc pull\n",
    "df = pd.read_parquet('song_properties.parquet', engine='pyarrow')\n",
    "pq.write_table(pyarrow.table(df), 'data/song_properties.parquet', filesystem=fs)"
   ]
  },
  {
   "cell_type": "markdown",
   "id": "cd6067a0",
   "metadata": {},
   "source": [
    "## ✅ Restoring and Tracking Reverted Data"
   ]
  },
  {
   "cell_type": "markdown",
   "id": "e762315e",
   "metadata": {},
   "source": [
    "And we are now back at the original data and able to track the revert!"
   ]
  },
  {
   "cell_type": "code",
   "execution_count": null,
   "id": "258ab5eb-5dbe-4fa5-81da-5280f14dce6a",
   "metadata": {
    "tags": []
   },
   "outputs": [],
   "source": [
    "# Update and version dvc again with the reverted data\n",
    "!dvc update song_properties.parquet.dvc --to-remote\n",
    "!git add song_properties.parquet.dvc\n",
    "!git commit -m \"reverted data\""
   ]
  },
  {
   "cell_type": "markdown",
   "id": "1f42607a",
   "metadata": {},
   "source": [
    "NOTE: After reverting to the original version, you can optionally create a new version to track the revert."
   ]
  },
  {
   "cell_type": "code",
   "execution_count": null,
   "id": "f84ffeed",
   "metadata": {},
   "outputs": [],
   "source": [
    "# Let's take back all last commits\n",
    "# spoiler alert; because we'll automate these steps!\n",
    "!git reset --hard HEAD~3"
   ]
  },
  {
   "cell_type": "markdown",
   "id": "abf9bdb8",
   "metadata": {},
   "source": [
    "## 🎯 Summary\n",
    "\n",
    "This workflow demonstrates how DVC helps manage data versioning:\n",
    "\n",
    "* Modify and track changes in datasets.\n",
    "* Use Git to link data and code versions.\n",
    "* Revert to previous dataset versions when needed."
   ]
  }
 ],
 "metadata": {
  "kernelspec": {
   "display_name": "Python 3.9",
   "language": "python",
   "name": "python3"
  },
  "language_info": {
   "codemirror_mode": {
    "name": "ipython",
    "version": 3
   },
   "file_extension": ".py",
   "mimetype": "text/x-python",
   "name": "python",
   "nbconvert_exporter": "python",
   "pygments_lexer": "ipython3",
   "version": "3.9.16"
  }
 },
 "nbformat": 4,
 "nbformat_minor": 5
}
