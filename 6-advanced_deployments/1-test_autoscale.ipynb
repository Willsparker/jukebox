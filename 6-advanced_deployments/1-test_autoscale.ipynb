{
 "cells": [
  {
   "cell_type": "markdown",
   "id": "0d7c4aa5-119c-4e92-88ba-2d2c49be2d7f",
   "metadata": {},
   "source": [
    "# Autoscaling Testing with Locust 🐛\n",
    "\n",
    "Locust is an open source performance/load testing tool. Its developer-friendly approach lets you define your tests in regular Python code. We have a `locustfile.py` that you can see on the left panel. It is the definition of the request to our model endpoint. With locust, we will use that request and send 2 concurrent requests. "
   ]
  },
  {
   "cell_type": "code",
   "execution_count": null,
   "id": "62656bad-6266-4141-af0b-132a7c77f177",
   "metadata": {},
   "outputs": [],
   "source": [
    "# install locust library\n",
    "!pip -q install locust"
   ]
  },
  {
   "cell_type": "code",
   "execution_count": null,
   "id": "77bdba35-c24c-4786-bda6-a7ce7899a7d0",
   "metadata": {},
   "outputs": [],
   "source": [
    "infer_endpoint = \"ENTER-YOUR-INFERENCE-ENDPOINT\""
   ]
  },
  {
   "cell_type": "markdown",
   "id": "442c875a-dc06-4f2c-a3ad-384150d64193",
   "metadata": {},
   "source": [
    "#### Run the cell below, then return to the instructions while Locust sends requests to your model! You'll be redirected to the test environment, where a new instance of the model deployment will spin up! 🏃💨"
   ]
  },
  {
   "cell_type": "code",
   "execution_count": null,
   "id": "5fc20eaf-96c9-489f-ac56-71b895e4e801",
   "metadata": {},
   "outputs": [],
   "source": [
    "# Run locust towards your test endpoint\n",
    "!locust --headless --users 2 --spawn-rate 1 -H {infer_endpoint} --run-time 50s"
   ]
  }
 ],
 "metadata": {
  "kernelspec": {
   "display_name": "Python 3.11",
   "language": "python",
   "name": "python3"
  },
  "language_info": {
   "codemirror_mode": {
    "name": "ipython",
    "version": 3
   },
   "file_extension": ".py",
   "mimetype": "text/x-python",
   "name": "python",
   "nbconvert_exporter": "python",
   "pygments_lexer": "ipython3",
   "version": "3.11.7"
  }
 },
 "nbformat": 4,
 "nbformat_minor": 5
}
