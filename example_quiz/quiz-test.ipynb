{
 "cells": [
  {
   "cell_type": "code",
   "execution_count": 11,
   "id": "f096897a-5bbf-442e-826d-2c19767f1081",
   "metadata": {},
   "outputs": [],
   "source": [
    "import sys\n",
    "import os\n",
    "sys.path.append(os.path.abspath('../.dontlookhere/'))\n",
    "from quiz1 import *"
   ]
  },
  {
   "cell_type": "code",
   "execution_count": null,
   "id": "0086bb44-1c24-4566-94c1-928df01871b3",
   "metadata": {},
   "outputs": [],
   "source": [
    "quiz_about_elephants()"
   ]
  },
  {
   "cell_type": "code",
   "execution_count": null,
   "id": "6454802f-39e4-4306-890c-e8220d2e9123",
   "metadata": {},
   "outputs": [],
   "source": [
    "quiz_about_numbers()"
   ]
  }
 ],
 "metadata": {
  "kernelspec": {
   "display_name": "Python 3.11",
   "language": "python",
   "name": "python3"
  },
  "language_info": {
   "codemirror_mode": {
    "name": "ipython",
    "version": 3
   },
   "file_extension": ".py",
   "mimetype": "text/x-python",
   "name": "python",
   "nbconvert_exporter": "python",
   "pygments_lexer": "ipython3",
   "version": "3.11.7"
  }
 },
 "nbformat": 4,
 "nbformat_minor": 5
}
