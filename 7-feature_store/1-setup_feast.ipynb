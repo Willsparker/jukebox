{
 "cells": [
  {
   "cell_type": "markdown",
   "metadata": {},
   "source": [
    "# Feast\n",
    "Feast is a feature store helps you store and serve features consistently for offline training and online inference.  \n",
    "With Feast, you can define, manage, validate, and serve features for production AI/ML, allowing both for collaboration around the features and to utilize features across AI products at scale.  "
   ]
  },
  {
   "cell_type": "markdown",
   "metadata": {},
   "source": [
    "## Apply features to Feast\n",
    "First we apply all features defined inside the `feature_repo`.  \n",
    "This will store these feature definitions inside a database (referred to here as the Feast Registry). In our case, this is a simple postrgressql database.  \n",
    "Inside the feature defintions we also point out where the data for these features is stored, so we know where and how to go and get it."
   ]
  },
  {
   "cell_type": "code",
   "execution_count": null,
   "metadata": {},
   "outputs": [],
   "source": [
    "!pip install -q -r requirements.txt"
   ]
  },
  {
   "cell_type": "code",
   "execution_count": null,
   "metadata": {},
   "outputs": [],
   "source": [
    "import feast\n",
    "from datetime import datetime\n",
    "import yaml, sys, os"
   ]
  },
  {
   "cell_type": "code",
   "execution_count": null,
   "metadata": {},
   "outputs": [],
   "source": [
    "sys.path.append(os.path.abspath('feature_repo/'))\n",
    "from features import music, song_properties\n",
    "from feature_service import song_properties_fs"
   ]
  },
  {
   "cell_type": "markdown",
   "metadata": {},
   "source": [
    "Whenever we use Feast, we need to point out the project, registry, online, and offline store so that we are using the corect data sources.  \n",
    "A simple way to do that is to have a yaml file with the spec that we can referr to, but we will later move on to use Feast servers so we don't need this yaml everywhere we want to use Feast."
   ]
  },
  {
   "cell_type": "code",
   "execution_count": null,
   "metadata": {},
   "outputs": [],
   "source": [
    "with open('feature_repo/feature_store.yaml', 'r') as file:\n",
    "    fs_config_yaml = yaml.safe_load(file)\n",
    "\n",
    "fs_config = feast.repo_config.RepoConfig(**fs_config_yaml)\n",
    "fs = feast.FeatureStore(config=fs_config)"
   ]
  },
  {
   "cell_type": "markdown",
   "metadata": {},
   "source": [
    "When we apply features to Feast we point out what objects we want to apply. In our case it's:\n",
    "- A Feature View - a collection of features where you freely can choose which ones you want to use, great for experimentation.\n",
    "- A Feature Services - a logical group of features from one or more feature views. This is handy to use for production as it always point to the same group of features."
   ]
  },
  {
   "cell_type": "code",
   "execution_count": null,
   "metadata": {},
   "outputs": [],
   "source": [
    "fs.apply([song_properties_fs, music, song_properties])"
   ]
  },
  {
   "cell_type": "markdown",
   "metadata": {},
   "source": [
    "## Materialize our features\n",
    "Next step is to materialize the features, what this does is move the features from the offline store into the online store.  \n",
    "Specifically, we move a subset of the features, the ones that's within a defined timeframe and we only store the latest features inside the feature store."
   ]
  },
  {
   "cell_type": "code",
   "execution_count": null,
   "metadata": {},
   "outputs": [],
   "source": [
    "fs.materialize(start_date=datetime(2023, 1, 1), end_date=datetime.now())"
   ]
  },
  {
   "cell_type": "markdown",
   "metadata": {},
   "source": [
    "## Next step\n",
    "Now that we have set up Feast, let's start using it!  \n",
    "Go to the next notebook to see how we can fetch training features: [2-test_load_historitcal_features.ipynb](2-test_load_historitcal_features.ipynb)"
   ]
  }
 ],
 "metadata": {
  "language_info": {
   "name": "python"
  }
 },
 "nbformat": 4,
 "nbformat_minor": 2
}
